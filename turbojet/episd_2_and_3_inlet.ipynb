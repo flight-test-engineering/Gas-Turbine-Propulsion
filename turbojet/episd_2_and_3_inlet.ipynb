{
 "cells": [
  {
   "cell_type": "markdown",
   "id": "9191ce65-de1a-478b-a4c0-bed8bc1fc29a",
   "metadata": {},
   "source": [
    "# A Small Recap\n",
    "\n",
    "Ideal Gas"
   ]
  },
  {
   "cell_type": "markdown",
   "id": "dd8312e6-d3d1-4645-8cee-f18f317968d6",
   "metadata": {
    "tags": []
   },
   "source": [
    "Isentropic Process\n",
    "\n",
    "* $pV^{\\gamma}=k$; \n",
    "\n",
    "* $p=k\\rho^{\\gamma}$ -> $dp=\\gamma k \\rho^{\\gamma -1}d\\rho$\n",
    "\n",
    "Isentropic Compression\n",
    "\n",
    "* $\\frac{T_2}{T_1}=(\\frac{p_2}{p_1})^{\\frac{\\gamma-1}{\\gamma}}$  >>>or<<<   $\\frac{p_2}{p_1}=(\\frac{T_2}{T_1})^{\\frac{\\gamma}{\\gamma-1}}$\n"
   ]
  },
  {
   "cell_type": "markdown",
   "id": "0185437e-3717-4ce6-8b48-f42950b6f076",
   "metadata": {
    "tags": []
   },
   "source": [
    "Bernoulli / Compressible \n",
    "\n",
    "* $\\frac{p_0}{p} = (1+ \\frac{\\gamma-1}{2} M^2)^{\\frac{\\gamma}{\\gamma - 1}} = (1+ \\frac{V^2}{2 c_p T_s})^{\\frac{\\gamma}{\\gamma - 1}}$"
   ]
  },
  {
   "cell_type": "markdown",
   "id": "c496dc68-0948-4092-aa34-225c2557b722",
   "metadata": {
    "tags": []
   },
   "source": [
    "Compression Efficiency\n",
    "\n",
    "* $\\eta_c = \\frac{w_{c,s}}{w_c} = \\frac{h_{2}^\\prime-h_1}{h_2-h_1} = \\frac{c_p(T_{2}^\\prime-T_1)}{c_p(T_2-T_1)}$"
   ]
  },
  {
   "cell_type": "markdown",
   "id": "324bf1e0-0515-45a0-a521-991486268c1a",
   "metadata": {
    "tags": []
   },
   "source": [
    "![037](pictures/compression_efficiency.svg)\n"
   ]
  },
  {
   "cell_type": "markdown",
   "id": "d183e403-898f-4ffe-aee5-859cd63e6beb",
   "metadata": {
    "tags": []
   },
   "source": [
    "Some basic relationships\n",
    "\n",
    "$M=\\frac{V}{\\sqrt{\\gamma RT_{static}}}$\n",
    "\n",
    "$\\gamma R = c_p (\\gamma - 1)$"
   ]
  },
  {
   "cell_type": "markdown",
   "id": "3e4367fe-6556-458d-9936-73961ecaec12",
   "metadata": {
    "tags": []
   },
   "source": [
    "# Inlet Diffuser"
   ]
  },
  {
   "cell_type": "markdown",
   "id": "7d98affb-dba7-4b32-98e1-83dae7bc0034",
   "metadata": {
    "tags": []
   },
   "source": [
    "The conditions far away from the engine, at Station \"a\" (for ambient), are:\n",
    "\n",
    "$T_{a_{static}}$, $P_{a_{static}}$, and $M_a$\n",
    "\n",
    "If we now define *sub \"0\"* to mean \"stagnation\"...\n",
    "\n",
    "so $T_{01}$ is the stagnation pressure at station 1;\n",
    "\n",
    "   $T_{0a}$ is the stagnation pressure at station \"a\"\n",
    "\n",
    "and $T_{a}$ is the static pressure at station \"a\""
   ]
  },
  {
   "cell_type": "markdown",
   "id": "95b1186c-b0ae-4488-9fb7-3aa0890402f8",
   "metadata": {},
   "source": [
    ">>*fluid properties parenthesis*"
   ]
  },
  {
   "cell_type": "markdown",
   "id": "29d7fbaa-3cc4-4038-8949-8af3e2076412",
   "metadata": {
    "tags": []
   },
   "source": [
    "#### Isentropic flow up to duct inlet\n",
    "\n",
    "Let's assume there are no losses from Station \"a\" to Station 1.\n",
    "\n",
    "$P_{01} = P_{0a} = P_{a} (1 + \\frac{\\gamma - 1}{2}M_a^{2})^\\frac{\\gamma}{\\gamma -1} = P_{a} (1+ \\frac{V_{a}^2}{2 c_p T_a})^{\\frac{\\gamma}{\\gamma - 1}}$\n",
    "\n",
    "$T_{01} = T_{0a} = T_{a} (1 + \\frac{\\gamma - 1}{2}M_a^{2}) = T_{a}+ (\\frac{V_{a}^2}{2 c_p} )$"
   ]
  },
  {
   "cell_type": "markdown",
   "id": "313c19c1-0b9e-4080-a5bb-f085aed3618a",
   "metadata": {
    "tags": []
   },
   "source": [
    "#### Adiabatic Duct\n",
    "\n",
    "Inside the inlet duct, we have friction losses, but no heat transfer\n",
    "\n",
    "$T_{02}=T_{01}=T_{0a} $ -> stagnation temperatures are the same\n",
    "\n",
    "$=> T_{02}=T_{01}= T_{1} + \\frac{V_1^2}{2c_{p1}}$\n",
    "\n",
    "$T_{02} - T_{1} =  \\frac{V_1^2}{2c_{p1}} $\n",
    "\n",
    "$=> T_{1} + \\frac{V_1^2}{2c_{p1}} = T_{2} + \\frac{V_2^2}{2c_{p2}} $\n",
    "\n",
    "$T_{2} = T_{1} + \\frac{V_1^2}{2c_{p1}} - \\frac{V_2^2}{2c_{p2}}$ (eq. 1)"
   ]
  },
  {
   "cell_type": "markdown",
   "id": "793a6dce-c025-4525-aa54-5d2a44eee940",
   "metadata": {
    "tags": []
   },
   "source": [
    "#### if it was isentropic...\n",
    "\n",
    "And if we had isentropic compression, we could write:\n",
    "\n",
    "$\\frac{p_{02}}{p_{1}} = (\\frac{T_{02}^\\prime}{T_{1}})^{\\frac{\\gamma}{\\gamma -1}}$ (eq. 3)\n",
    "\n",
    "which can be re-written as:\n",
    "\n",
    "$\\frac{p_{02}}{p_{1}} = (1 +  \\frac{T_{02}^{'} - T_{1}}{T_{1}})^{\\frac{\\gamma}{\\gamma -1}}$\n",
    "\n"
   ]
  },
  {
   "cell_type": "markdown",
   "id": "9705a842-798d-491a-9fe7-9312c22a05f1",
   "metadata": {
    "tags": []
   },
   "source": [
    "#### considering the definition of inlet efficiency...\n",
    "\n",
    "\n",
    "\n",
    "$\\eta_i=\\frac{T_{02}^{'}-T_{1}}{T_{02}-T_{1}}$\n",
    "\n",
    "$T_{02}^{'}-T_{1}=\\eta_i(T_{02}-T_{1})$ \n",
    "\n",
    "$\\frac{p_{02}}{p_{1}} = (1 +  \\frac{\\eta_i(T_{02}-T_{1})}{T_{1}})^{\\frac{\\gamma}{\\gamma -1}}$\n",
    "\n",
    "But $T_{02} - T_{1} =  \\frac{V_1^2}{2c_{p1}} $\n",
    "\n",
    "\n",
    "$\\frac{p_{02}}{p_{1}} = (1 + \\frac{\\eta_i V_1^2}{2c_{p1}T_{1}})^{\\frac{\\gamma}{\\gamma -1}}$ (eq. 2)"
   ]
  },
  {
   "cell_type": "markdown",
   "id": "bf6ebf46-a135-4030-8259-ab6e19b524fd",
   "metadata": {
    "tags": []
   },
   "source": [
    "#### mass flow\n",
    "\n",
    "$\\dot{m}=\\rho V A$"
   ]
  },
  {
   "cell_type": "code",
   "execution_count": null,
   "id": "e3c7f25d-1b62-4256-9f94-1b985f68fd01",
   "metadata": {
    "tags": []
   },
   "outputs": [],
   "source": [
    "#01 - preamble, imports\n",
    "\n",
    "import numpy as np\n",
    "import matplotlib.pyplot as plt\n",
    "plt.style.use('dark_background')\n",
    "plt.rcParams['figure.figsize'] = [12, 7]\n",
    "import cantera as ct\n",
    "import ISA_module as ISA\n",
    "\n",
    "from engine_helper_functions import *"
   ]
  },
  {
   "cell_type": "code",
   "execution_count": null,
   "id": "934d81e5-5dd5-403f-aacd-937180b2508e",
   "metadata": {
    "tags": []
   },
   "outputs": [],
   "source": [
    "ct.__version__"
   ]
  },
  {
   "cell_type": "code",
   "execution_count": null,
   "id": "e81a1ed2-3cf1-41db-822e-81e57baaa156",
   "metadata": {
    "tags": []
   },
   "outputs": [],
   "source": []
  },
  {
   "cell_type": "raw",
   "id": "6cda9dd3-bb37-49b7-9d5f-c68f34f86529",
   "metadata": {
    "tags": []
   },
   "source": []
  },
  {
   "cell_type": "code",
   "execution_count": null,
   "id": "01e804d4-e03f-4506-b52d-96cde3b1f538",
   "metadata": {
    "tags": []
   },
   "outputs": [],
   "source": [
    "#02 - engine parameters definitions\n",
    "\n",
    "eng_param = {} # engine physical parameters will be stored in this dictionary\n",
    "\n",
    "eng_perf = {} # engine performance parameters in this dictionary\n",
    "\n",
    "# engine parameters\n",
    "# inlet\n",
    "#   physical parameters\n",
    "eng_param['A1'] = 0.30 # m2 inlet area at station 1\n",
    "eng_param['A2'] = 0.32 # m2 inlet exit area at face of compressor\n",
    "#   performance parameters\n",
    "eng_perf['eta_i'] = 0.98 # this can be upgraded to vary with Mach and m_dot\n",
    "\n",
    "#--------------------------------------------------------------------------\n",
    "\n"
   ]
  },
  {
   "cell_type": "code",
   "execution_count": null,
   "id": "24457f62-1fdf-40a9-a425-68d2fd804c3b",
   "metadata": {
    "tags": []
   },
   "outputs": [],
   "source": [
    "#03 - inlet iterative function\n",
    "\n",
    "def iterate_inlet(mdot:float, \n",
    "                  A:float, \n",
    "                  gas_in:ct.Solution, \n",
    "                  eta_i:float, \n",
    "                  M_in:float, \n",
    "                  gas_out:ct.Solution)->(float, bool):\n",
    "    '''\n",
    "    This function iterates the gas velocity at inlet exit until convergence\n",
    "    \n",
    "    inputs\n",
    "    mdot : mass flow, in kg/s\n",
    "    A     : area, in m2\n",
    "    gas_in: Cantera solution object with gas at entrance of inlet\n",
    "    T_in  : stagnation temperature of gas at entrance of inlet, in K\n",
    "    p_in  : stagnation pressure of gas at entrance of inlet, in Pascals\n",
    "    eta_i : inlet efficiency\n",
    "    M_in  : Mach number for gas at entrance of inlet\n",
    "    gas_out: Cantera solution object with gas at exit of inlet\n",
    "    \n",
    "    returns\n",
    "    M_out : Mach number for gas at exit of inlet. Zero if no convergence reached\n",
    "    convergence: True if converged, False if not\n",
    "    indirect outputs\n",
    "    gas_out: Cantera solution containing updated gas properties\n",
    "    '''\n",
    "    # loop control\n",
    "    tol = 0.01 # tolerance to check for convergence\n",
    "    max_iter = 100 # maximum number of iterations\n",
    "    converged = False # keeps track of convergence\n",
    "    n_iter = 0 #iteration counter\n",
    "    \n",
    "    # calculated input gas properties\n",
    "    V_in = M_in * get_a(gas_in)\n",
    "    gamma_in = get_gamma(gas_in)\n",
    "    T_0in = get_T(gas_in.T, gamma_in, M_in)\n",
    "    p_0in = get_p(gas_in.P, gamma_in, M_in)\n",
    "\n",
    "    # initial guess\n",
    "    T_0out = T_0in\n",
    "    V_out_guess = mdot / (gas_in.density * A)\n",
    "    gamma_out = gamma_in\n",
    "    \n",
    "    \n",
    "    while not converged and n_iter <= max_iter:\n",
    "        \n",
    "        # calc properties using current guess\n",
    "        \n",
    "        T_out = gas_in.T + (V_in**2 / (2 * gas_in.cp) - V_out_guess**2 / (2 * gas_out.cp))\n",
    "        p_0out = gas_in.P * (1 + eta_i * V_in**2 / (2 * gas_in.cp * gas_in.T))**(gamma_in / (gamma_in - 1))\n",
    "        p_out = p_0out * (T_out / T_0out)**(gamma_out / (gamma_out - 1))\n",
    "              \n",
    "        # update gas to get new properties (especially density)\n",
    "        gas_out.TP = T_out, p_out\n",
    "        gamma_out = get_gamma(gas_out)\n",
    "        \n",
    "        # update velocity calculation with new gas properties\n",
    "        V_out = V_out_guess\n",
    "        V_out_guess = mdot / (gas_out.density * A)\n",
    "        \n",
    "        # check for convergnece\n",
    "        if abs(V_out - V_out_guess) < tol:\n",
    "            print(f'inlet finished, converged, niter={n_iter}')\n",
    "            converged = True\n",
    "            M_out = V_out / get_a(gas_out)\n",
    "        elif n_iter < max_iter:\n",
    "            n_iter += 1\n",
    "        else:\n",
    "            M_out = 0\n",
    "            print(f'inlet finished, NOT converged, niter={n_iter}')\n",
    "            \n",
    "    return M_out, converged            "
   ]
  },
  {
   "cell_type": "code",
   "execution_count": null,
   "id": "0b04195e-3a7b-411d-8c17-1b7ee22fe1d6",
   "metadata": {},
   "outputs": [],
   "source": []
  },
  {
   "cell_type": "code",
   "execution_count": null,
   "id": "2e0556fd-0a73-442e-be59-2adb8e8447b7",
   "metadata": {},
   "outputs": [],
   "source": [
    "#04 - engine ambient/operating conditions\n",
    "\n",
    "eng_op_con = {}\n",
    "eng_op_con['throttle_pos'] = 1.0 # 1 is full throttle; .5 is idle\n",
    "eng_op_con['mdot_guess'] = 20 # kg/s\n",
    "eng_op_con['alt'] = 35000 # ft\n",
    "eng_op_con['M_i'] = 0.8\n",
    "\n",
    "M_i = eng_op_con['M_i'] # indicated Mach number - aircraft\n",
    "V_i = ISA.M2Vt(eng_op_con['M_i'], eng_op_con['alt']) * ISA.kt2ms # true airspeed in kts\n",
    "p_amb = ISA.p(eng_op_con['alt']) # static\n",
    "T_amb = ISA.T(eng_op_con['alt']) # static"
   ]
  },
  {
   "cell_type": "code",
   "execution_count": null,
   "id": "f08e5cb4-0047-45cd-a705-6d3f2f741c08",
   "metadata": {
    "tags": []
   },
   "outputs": [],
   "source": [
    "#05 - initial stations setup\n",
    "\n",
    "gas = {} # dictionary with Cantera Solution (gas) objects for each station\n",
    "M = {} # Mach number for each station\n",
    "\n",
    "st = [\"a\", 1, 2, 3, 4, 5, 8] # station numbers\n",
    "station_names = {st[0]:'ambient',\n",
    "                 st[1]:'inlet',\n",
    "                 st[2]:'inlet @ comp. face',\n",
    "                 st[3]:'after compressor',\n",
    "                 st[4]:'after combustor',\n",
    "                 st[5]:'after turbine',\n",
    "                 st[6]:'nozzle exit'}\n",
    "\n",
    "# see https://github.com/Cantera/cantera/blob/main/data/nDodecane_Reitz.yaml\n",
    "reaction_mechanism = 'nDodecane_Reitz.yaml'\n",
    "phase_name = 'nDodecane_IG' # IG = ideal gas, other option is RK = Redlich-Kwong\n",
    "\n",
    "comp_air = 'O2:0.209, N2:0.787, CO2:0.004' # composition of air\n",
    "comp_fuel = 'c12h26:1' # composition of fuel\n",
    "\n",
    "\n",
    "# initialize all stations with air, at ambient conditions\n",
    "for station in st:\n",
    "    gas[station] = (ct.Solution(reaction_mechanism, phase_name))\n",
    "    gas[station].X = comp_air\n",
    "    gas[station].TP = T_amb, p_amb\n",
    "        \n",
    "    M[station] = M_i"
   ]
  },
  {
   "cell_type": "code",
   "execution_count": null,
   "id": "76be00e2-8379-4f0b-ba44-4f69ed63d426",
   "metadata": {},
   "outputs": [],
   "source": [
    "#06 - from Station \"a\" to Station 1\n",
    "\n",
    "M_calc, conv = iterate_inlet(eng_op_con['mdot_guess'],\n",
    "                             eng_param['A1'],\n",
    "                             gas[st[0]],\n",
    "                             1, # isentropic thus efficiency=1\n",
    "                             M[st[0]],\n",
    "                             gas[st[1]])\n",
    "\n",
    "# we only assign the Mach number if we reached convergnece\n",
    "if conv: M[st[1]] = M_calc"
   ]
  },
  {
   "cell_type": "code",
   "execution_count": null,
   "id": "0fa27afd-d531-41e7-9a95-e160f85ebb97",
   "metadata": {},
   "outputs": [],
   "source": [
    "# create data set for plotting\n",
    "\n",
    "st_T = []\n",
    "st_p = []\n",
    "st_X = []\n",
    "\n",
    "# get T, p, X from each station that we already calculated\n",
    "for x in range(0, 2):\n",
    "    st_T.append(gas[st[x]].T)\n",
    "    st_p.append(gas[st[x]].P)\n",
    "    st_X.append(gas[st[x]].X)"
   ]
  },
  {
   "cell_type": "code",
   "execution_count": null,
   "id": "e818649c-a955-4998-a0c2-6e8f3e6fb064",
   "metadata": {},
   "outputs": [],
   "source": [
    "print_stations(st[0:2], station_names, gas, M)\n",
    "\n",
    "myplot = plot_T_s(st_T, st_p, st_X, reaction_mechanism, phase_name)"
   ]
  },
  {
   "cell_type": "code",
   "execution_count": null,
   "id": "09541c6c-3b9c-4894-a3f3-d55cf2417fdf",
   "metadata": {},
   "outputs": [],
   "source": [
    "#07 - from Station 1 to Station 2\n",
    "\n",
    "M_calc, conv = iterate_inlet(eng_op_con['mdot_guess'] ,\n",
    "                             eng_param['A2'],\n",
    "                             gas[st[1]],\n",
    "                             eng_perf['eta_i'],\n",
    "                             M[st[1]],\n",
    "                             gas[2])\n",
    "\n",
    "# we only assign the Mach number if we reached convergnece\n",
    "# and if we did, we now assume constant Mach throughout the machine\n",
    "if conv: \n",
    "    n_st = len(st) #get number of stations\n",
    "    current_st = st.index(2) #get index of current station\n",
    "    for i in range(current_st, n_st):\n",
    "        M[st[i]] = M_calc\n",
    "else:\n",
    "    print('ERROR: inlet did not converge')\n",
    "    ###break\n",
    "\n",
    "st_T.append(gas[st[2]].T)\n",
    "st_p.append(gas[st[2]].P)\n",
    "st_X.append(gas[st[2]].X)"
   ]
  },
  {
   "cell_type": "code",
   "execution_count": null,
   "id": "a9e5c7a1-c29d-4a26-a1ec-0d05828daf97",
   "metadata": {},
   "outputs": [],
   "source": [
    "print_stations(st[0:3], station_names, gas, M)\n",
    "\n",
    "myplot = plot_T_s(st_T, st_p, st_X, reaction_mechanism, phase_name)"
   ]
  },
  {
   "cell_type": "code",
   "execution_count": null,
   "id": "a1029981-e1ce-45a7-90bd-dfec0b42c6be",
   "metadata": {},
   "outputs": [],
   "source": []
  }
 ],
 "metadata": {
  "kernelspec": {
   "display_name": "Python 3 (ipykernel)",
   "language": "python",
   "name": "python3"
  },
  "language_info": {
   "codemirror_mode": {
    "name": "ipython",
    "version": 3
   },
   "file_extension": ".py",
   "mimetype": "text/x-python",
   "name": "python",
   "nbconvert_exporter": "python",
   "pygments_lexer": "ipython3",
   "version": "3.10.6"
  }
 },
 "nbformat": 4,
 "nbformat_minor": 5
}
