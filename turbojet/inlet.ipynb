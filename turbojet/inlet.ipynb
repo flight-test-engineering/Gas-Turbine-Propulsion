{
 "cells": [
  {
   "cell_type": "markdown",
   "id": "9191ce65-de1a-478b-a4c0-bed8bc1fc29a",
   "metadata": {},
   "source": [
    "# A Small Recap\n",
    "\n",
    "Ideal Gas"
   ]
  },
  {
   "cell_type": "markdown",
   "id": "dd8312e6-d3d1-4645-8cee-f18f317968d6",
   "metadata": {
    "tags": []
   },
   "source": [
    "Isentropic Process\n",
    "\n",
    "* $pV^{\\gamma}=k$; $p=k\\rho^{\\gamma}$ -> $dp=\\gamma k \\rho^{\\gamma -1}d\\rho$\n",
    "\n",
    "Isentropic Compression\n",
    "\n",
    "* $\\frac{T_2}{T_1}=(\\frac{p_2}{p_1})^{\\frac{\\gamma-1}{\\gamma}}$  >>>or<<<   $\\frac{p_2}{p_1}=(\\frac{T_2}{T_1})^{\\frac{\\gamma}{\\gamma-1}}$\n"
   ]
  },
  {
   "cell_type": "markdown",
   "id": "0185437e-3717-4ce6-8b48-f42950b6f076",
   "metadata": {
    "tags": []
   },
   "source": [
    "Bernoulli / Compressible \n",
    "\n",
    "* $\\frac{p_0}{p} = (1+ \\frac{\\gamma-1}{2} M^2)^{\\frac{\\gamma}{\\gamma - 1}} = (1+ \\frac{V^2}{2 c_p T_s})^{\\frac{\\gamma}{\\gamma - 1}}$"
   ]
  },
  {
   "cell_type": "markdown",
   "id": "c496dc68-0948-4092-aa34-225c2557b722",
   "metadata": {
    "tags": []
   },
   "source": [
    "Compression Efficiency\n",
    "\n",
    "* $\\eta_c = \\frac{w_{c,s}}{w_c} = \\frac{h_{2}^\\prime-h_1}{h_2-h_1} = \\frac{c_p(T_{2}^\\prime-T_1)}{c_p(T_2-T_1)}$"
   ]
  },
  {
   "cell_type": "markdown",
   "id": "324bf1e0-0515-45a0-a521-991486268c1a",
   "metadata": {
    "tags": []
   },
   "source": [
    "![037](pictures/compression_efficiency.svg)\n"
   ]
  },
  {
   "cell_type": "markdown",
   "id": "d183e403-898f-4ffe-aee5-859cd63e6beb",
   "metadata": {
    "tags": []
   },
   "source": [
    "Some basic relationships\n",
    "\n",
    "$M=\\frac{V}{\\sqrt{\\gamma RT_{static}}}$\n",
    "\n",
    "$\\gamma R = c_p (\\gamma - 1)$"
   ]
  },
  {
   "cell_type": "markdown",
   "id": "3e4367fe-6556-458d-9936-73961ecaec12",
   "metadata": {
    "tags": []
   },
   "source": [
    "# Inlet Diffuser"
   ]
  },
  {
   "cell_type": "markdown",
   "id": "7d98affb-dba7-4b32-98e1-83dae7bc0034",
   "metadata": {
    "tags": []
   },
   "source": [
    "The conditions far away from the engine, at Station \"a\" (for ambient), are:\n",
    "\n",
    "$T_{a_{static}}$, $P_{a_{static}}$, and $M_a$\n",
    "\n",
    "If we now define *sub \"0\"* to mean \"stagnation\"...\n",
    "\n",
    "so $T_{01}$ is the stagnation pressure at station 1;\n",
    "\n",
    "   $T_{0a}$ is the stagnation pressure at station \"a\"\n",
    "\n",
    "and $T_{a}$ is the static pressure at station \"a\""
   ]
  },
  {
   "cell_type": "markdown",
   "id": "95b1186c-b0ae-4488-9fb7-3aa0890402f8",
   "metadata": {},
   "source": [
    ">>*fluid properties parenthesis*"
   ]
  },
  {
   "cell_type": "markdown",
   "id": "29d7fbaa-3cc4-4038-8949-8af3e2076412",
   "metadata": {
    "tags": []
   },
   "source": [
    "#### Isentropic flow up to duct inlet\n",
    "\n",
    "Let's assume there are no losses from Station \"a\" to Station 1.\n",
    "\n",
    "$P_{01} = P_{0a} = P_{a} (1 + \\frac{\\gamma - 1}{2}M_a^{2})^\\frac{\\gamma}{\\gamma -1} = P_{a} (1+ \\frac{V_{a}^2}{2 c_p T_a})^{\\frac{\\gamma}{\\gamma - 1}}$\n",
    "\n",
    "$T_{01} = T_{0a} = T_{a} (1 + \\frac{\\gamma - 1}{2}M_a^{2}) = T_{a}+ (\\frac{V_{a}^2}{2 c_p} )$"
   ]
  },
  {
   "cell_type": "markdown",
   "id": "313c19c1-0b9e-4080-a5bb-f085aed3618a",
   "metadata": {
    "tags": []
   },
   "source": [
    "#### Adiabatic Duct\n",
    "\n",
    "Inside the inlet duct, we have friction losses, but no heat transfer\n",
    "\n",
    "$T_{02}=T_{01}=T_{0a} $ -> stagnation temperatures are the same\n",
    "\n",
    "$=> T_{02}=T_{01}= T_{1} + \\frac{V_1^2}{2c_{p1}}$\n",
    "\n",
    "$T_{02} - T_{1} =  \\frac{V_1^2}{2c_{p1}} $\n",
    "\n",
    "$=> T_{1} + \\frac{V_1^2}{2c_{p1}} = T_{2} + \\frac{V_2^2}{2c_{p2}} $\n",
    "\n",
    "$T_{2} = T_{1} + \\frac{V_1^2}{2c_{p1}} - \\frac{V_2^2}{2c_{p2}}$"
   ]
  },
  {
   "cell_type": "markdown",
   "id": "793a6dce-c025-4525-aa54-5d2a44eee940",
   "metadata": {
    "tags": []
   },
   "source": [
    "#### if it was isentropic...\n",
    "\n",
    "And if we had isentropic compression, we could write:\n",
    "\n",
    "$\\frac{p_{02}}{p_{1}} = (\\frac{T_{02}^\\prime}{T_{1}})^{\\frac{\\gamma}{\\gamma -1}}$\n",
    "\n",
    "which can be re-written as:\n",
    "\n",
    "$\\frac{p_{02}}{p_{1}} = (1 +  \\frac{T_{02}^{'} - T_{1}}{T_{1}})^{\\frac{\\gamma}{\\gamma -1}}$\n",
    "\n"
   ]
  },
  {
   "cell_type": "markdown",
   "id": "9705a842-798d-491a-9fe7-9312c22a05f1",
   "metadata": {
    "tags": []
   },
   "source": [
    "#### considering the definition of inlet efficiency...\n",
    "\n",
    "\n",
    "\n",
    "$\\eta_i=\\frac{T_{02}^{'}-T_{1}}{T_{02}-T_{1}}$\n",
    "\n",
    "$T_{02}^{'}-T_{1}=\\eta_i(T_{02}-T_{1})$ \n",
    "\n",
    "$\\frac{p_{02}}{p_{1}} = (1 +  \\frac{\\eta_i(T_{02}-T_{1})}{T_{1}})^{\\frac{\\gamma}{\\gamma -1}}$\n",
    "\n",
    "But $T_{02} - T_{1} =  \\frac{V_1^2}{2c_{p1}} $\n",
    "\n",
    "\n",
    "$\\frac{p_{02}}{p_{1}} = (1 + \\frac{\\eta_i V_1^2}{2c_{p1}T_{1}})^{\\frac{\\gamma}{\\gamma -1}}$"
   ]
  },
  {
   "cell_type": "markdown",
   "id": "bf6ebf46-a135-4030-8259-ab6e19b524fd",
   "metadata": {
    "tags": []
   },
   "source": [
    "#### mass flow\n",
    "\n",
    "$\\dot{m}=\\rho V A$"
   ]
  },
  {
   "cell_type": "code",
   "execution_count": null,
   "id": "a1029981-e1ce-45a7-90bd-dfec0b42c6be",
   "metadata": {},
   "outputs": [],
   "source": []
  }
 ],
 "metadata": {
  "kernelspec": {
   "display_name": "Python 3 (ipykernel)",
   "language": "python",
   "name": "python3"
  },
  "language_info": {
   "codemirror_mode": {
    "name": "ipython",
    "version": 3
   },
   "file_extension": ".py",
   "mimetype": "text/x-python",
   "name": "python",
   "nbconvert_exporter": "python",
   "pygments_lexer": "ipython3",
   "version": "3.10.6"
  }
 },
 "nbformat": 4,
 "nbformat_minor": 5
}
