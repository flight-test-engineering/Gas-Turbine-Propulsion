{
 "cells": [
  {
   "cell_type": "markdown",
   "id": "9191ce65-de1a-478b-a4c0-bed8bc1fc29a",
   "metadata": {},
   "source": [
    "# A Small Recap\n",
    "\n",
    "Ideal Gas"
   ]
  },
  {
   "cell_type": "markdown",
   "id": "dd8312e6-d3d1-4645-8cee-f18f317968d6",
   "metadata": {
    "tags": []
   },
   "source": [
    "Isentropic Process\n",
    "\n",
    "* $pV^{\\gamma}=k$; $p=k\\rho^{\\gamma}$ -> $dp=\\gamma k \\rho^{\\gamma -1}d\\rho$\n",
    "\n",
    "Isentropic Compression\n",
    "\n",
    "* $\\frac{T_2}{T_1}=(\\frac{p_2}{p_1})^{\\frac{\\gamma-1}{\\gamma}}$  >>>or<<<   $\\frac{p_2}{p_1}=(\\frac{T_2}{T_1})^{\\frac{\\gamma}{\\gamma-1}}$\n"
   ]
  },
  {
   "cell_type": "markdown",
   "id": "0185437e-3717-4ce6-8b48-f42950b6f076",
   "metadata": {
    "tags": []
   },
   "source": [
    "Bernoulli / Compressible \n",
    "\n",
    "* $\\frac{p_0}{p} = (1+ \\frac{\\gamma-1}{2} M^2)^{\\frac{\\gamma}{\\gamma - 1}} = (1+ \\frac{V^2}{2 c_p T_s})^{\\frac{\\gamma}{\\gamma - 1}}$"
   ]
  },
  {
   "cell_type": "markdown",
   "id": "c496dc68-0948-4092-aa34-225c2557b722",
   "metadata": {
    "tags": []
   },
   "source": [
    "Compression Efficiency\n",
    "\n",
    "* $\\eta_c = \\frac{w_{c,s}}{w_c} = \\frac{h_{2}^\\prime-h_1}{h_2-h_1} = \\frac{c_p(T_{2}^\\prime-T_1)}{c_p(T_2-T_1)}$"
   ]
  },
  {
   "cell_type": "markdown",
   "id": "324bf1e0-0515-45a0-a521-991486268c1a",
   "metadata": {
    "tags": []
   },
   "source": [
    "![037](pictures/compression_efficiency.svg)\n"
   ]
  },
  {
   "cell_type": "markdown",
   "id": "d183e403-898f-4ffe-aee5-859cd63e6beb",
   "metadata": {
    "tags": []
   },
   "source": [
    "Some basic relationships\n",
    "\n",
    "$M=\\frac{V}{\\sqrt{\\gamma RT_{static}}}$\n",
    "\n",
    "$\\gamma R = c_p (\\gamma - 1)$"
   ]
  },
  {
   "cell_type": "markdown",
   "id": "3e4367fe-6556-458d-9936-73961ecaec12",
   "metadata": {
    "tags": []
   },
   "source": [
    "# Inlet Diffuser"
   ]
  },
  {
   "cell_type": "markdown",
   "id": "7d98affb-dba7-4b32-98e1-83dae7bc0034",
   "metadata": {
    "tags": []
   },
   "source": [
    "The conditions far away from the engine, at Station \"a\" (for ambient), are:\n",
    "\n",
    "$T_{a_{static}}$, $P_{a_{static}}$, and $M_a$\n",
    "\n",
    "If we now define *sub \"0\"* to mean \"stagnation\"...\n",
    "\n",
    "so $T_{01}$ is the stagnation pressure at station 1;\n",
    "\n",
    "   $T_{0a}$ is the stagnation pressure at station \"a\"\n",
    "\n",
    "and $T_{a}$ is the static pressure at station \"a\""
   ]
  },
  {
   "cell_type": "markdown",
   "id": "95b1186c-b0ae-4488-9fb7-3aa0890402f8",
   "metadata": {},
   "source": [
    ">>*fluid properties parenthesis*"
   ]
  },
  {
   "cell_type": "markdown",
   "id": "29d7fbaa-3cc4-4038-8949-8af3e2076412",
   "metadata": {
    "tags": []
   },
   "source": [
    "#### Isentropic flow up to duct inlet\n",
    "\n",
    "Let's assume there are no losses from Station \"a\" to Station 1.\n",
    "\n",
    "$P_{01} = P_{0a} = P_{a} (1 + \\frac{\\gamma - 1}{2}M_a^{2})^\\frac{\\gamma}{\\gamma -1} = P_{a} (1+ \\frac{V_{a}^2}{2 c_p T_a})^{\\frac{\\gamma}{\\gamma - 1}}$\n",
    "\n",
    "$T_{01} = T_{0a} = T_{a} (1 + \\frac{\\gamma - 1}{2}M_a^{2}) = T_{a}+ (\\frac{V_{a}^2}{2 c_p} )$"
   ]
  },
  {
   "cell_type": "markdown",
   "id": "313c19c1-0b9e-4080-a5bb-f085aed3618a",
   "metadata": {
    "tags": []
   },
   "source": [
    "#### Adiabatic Duct\n",
    "\n",
    "Inside the inlet duct, we have friction losses, but no heat transfer\n",
    "\n",
    "$T_{02}=T_{01}=T_{0a} $ -> stagnation temperatures are the same\n",
    "\n",
    "$=> T_{02}=T_{01}= T_{1} + \\frac{V_1^2}{2c_{p1}}$\n",
    "\n",
    "$T_{02} - T_{1} =  \\frac{V_1^2}{2c_{p1}} $\n",
    "\n",
    "$=> T_{1} + \\frac{V_1^2}{2c_{p1}} = T_{2} + \\frac{V_2^2}{2c_{p2}} $\n",
    "\n",
    "$T_{2} = T_{1} + \\frac{V_1^2}{2c_{p1}} - \\frac{V_2^2}{2c_{p2}}$"
   ]
  },
  {
   "cell_type": "markdown",
   "id": "793a6dce-c025-4525-aa54-5d2a44eee940",
   "metadata": {
    "tags": []
   },
   "source": [
    "#### if it was isentropic...\n",
    "\n",
    "And if we had isentropic compression, we could write:\n",
    "\n",
    "$\\frac{p_{02}}{p_{1}} = (\\frac{T_{02}^\\prime}{T_{1}})^{\\frac{\\gamma}{\\gamma -1}}$\n",
    "\n",
    "which can be re-written as:\n",
    "\n",
    "$\\frac{p_{02}}{p_{1}} = (1 +  \\frac{T_{02}^{'} - T_{1}}{T_{1}})^{\\frac{\\gamma}{\\gamma -1}}$\n",
    "\n"
   ]
  },
  {
   "cell_type": "markdown",
   "id": "9705a842-798d-491a-9fe7-9312c22a05f1",
   "metadata": {
    "tags": []
   },
   "source": [
    "#### considering the definition of inlet efficiency...\n",
    "\n",
    "\n",
    "\n",
    "$\\eta_i=\\frac{T_{02}^{'}-T_{1}}{T_{02}-T_{1}}$\n",
    "\n",
    "$T_{02}^{'}-T_{1}=\\eta_i(T_{02}-T_{1})$ \n",
    "\n",
    "$\\frac{p_{02}}{p_{1}} = (1 +  \\frac{\\eta_i(T_{02}-T_{1})}{T_{1}})^{\\frac{\\gamma}{\\gamma -1}}$\n",
    "\n",
    "But $T_{02} - T_{1} =  \\frac{V_1^2}{2c_{p1}} $\n",
    "\n",
    "\n",
    "$\\frac{p_{02}}{p_{1}} = (1 + \\frac{\\eta_i V_1^2}{2c_{p1}T_{1}})^{\\frac{\\gamma}{\\gamma -1}}$"
   ]
  },
  {
   "cell_type": "markdown",
   "id": "bf6ebf46-a135-4030-8259-ab6e19b524fd",
   "metadata": {
    "tags": []
   },
   "source": [
    "#### mass flow\n",
    "\n",
    "$\\dot{m}=\\rho V A$"
   ]
  },
  {
   "cell_type": "code",
   "execution_count": null,
   "id": "e3c7f25d-1b62-4256-9f94-1b985f68fd01",
   "metadata": {
    "tags": []
   },
   "outputs": [],
   "source": [
    "#01 - preamble, imports\n",
    "\n",
    "import numpy as np\n",
    "import matplotlib.pyplot as plt\n",
    "plt.style.use('dark_background')\n",
    "plt.rcParams['figure.figsize'] = [12, 7]\n",
    "import cantera as ct\n",
    "import ISA_module as ISA\n"
   ]
  },
  {
   "cell_type": "code",
   "execution_count": null,
   "id": "934d81e5-5dd5-403f-aacd-937180b2508e",
   "metadata": {
    "tags": []
   },
   "outputs": [],
   "source": [
    "ct.__version__"
   ]
  },
  {
   "cell_type": "code",
   "execution_count": null,
   "id": "e81a1ed2-3cf1-41db-822e-81e57baaa156",
   "metadata": {},
   "outputs": [],
   "source": [
    "def get_p(ps:float, \n",
    "          gamma:float, \n",
    "          M:float)->float:\n",
    "    '''\n",
    "    This function calculates the stagnation pressure for isentropic process, given:\n",
    "    \n",
    "    ps: static pressure\n",
    "    gamma: cp/cv for the gas\n",
    "    M: Mach number\n",
    "    '''\n",
    "    return ps * ((1 + ((gamma - 1) / 2) * M**2)**(gamma / (gamma - 1)))\n",
    "\n",
    "\n",
    "def get_T(Ts:float, \n",
    "          gamma:float, \n",
    "          M:float)->float:\n",
    "    '''\n",
    "    This function calculates the stagnation temperature for isentropic process, given:\n",
    "    \n",
    "    Ts: static temperature\n",
    "    gamma: cp/cv for the gas\n",
    "    M: Mach number\n",
    "    '''\n",
    "    return Ts * (1 + ((gamma - 1) / 2) * M**2)"
   ]
  },
  {
   "cell_type": "code",
   "execution_count": null,
   "id": "a8864f74-8094-4da9-a385-49584c739dd7",
   "metadata": {},
   "outputs": [],
   "source": [
    "def get_Ts(T:float, \n",
    "           gamma:float, \n",
    "           M:float)->float:\n",
    "    '''\n",
    "    This function calculates the static temperature for isentropic process, given:\n",
    "    \n",
    "    T: stagnation or toal temperature\n",
    "    gamma: cp/cv for the gas\n",
    "    M: Mach number\n",
    "    '''\n",
    "    return T / (1 + ((gamma - 1) / 2) * M**2)\n",
    "\n",
    "\n",
    "\n",
    "def get_ps(p:float, \n",
    "           Ts:float, \n",
    "           Tt:float, \n",
    "           gamma:float)->float:\n",
    "    '''\n",
    "    This function calculates the static pressure for isentropic process, given:\n",
    "    \n",
    "    p: stagnation pressure\n",
    "    Ts: static temperature\n",
    "    Tt: stagnation temperature\n",
    "    gamma: cp/cv for the gas\n",
    "    '''\n",
    "    return p * (Ts / Tt)**(gamma / (gamma - 1))"
   ]
  },
  {
   "cell_type": "code",
   "execution_count": null,
   "id": "e1e3cd56-24fe-448b-8e6d-afe5cc26c341",
   "metadata": {},
   "outputs": [],
   "source": [
    "def get_gamma(gas:ct.Solution)->float:\n",
    "    '''\n",
    "    This function calculates gamma, given:\n",
    "    \n",
    "    gas: Cantera Solution object\n",
    "    '''\n",
    "    return gas.cp / gas.cv\n",
    "\n",
    "\n",
    "\n",
    "def get_R(gas:ct.Solution)->float:\n",
    "    '''\n",
    "    This function calculates the gas constant, given:\n",
    "    \n",
    "    gas: Cantera Solution object\n",
    "    '''\n",
    "    return gas.cp - gas.cv\n",
    "\n",
    "\n",
    "\n",
    "def get_a(gas:ct.Solution)->float:\n",
    "    '''\n",
    "    This function calculates the local speed of sound, given:\n",
    "    \n",
    "    gas: Cantera Solution object\n",
    "    '''\n",
    "    return np.sqrt(get_R(gas) * get_gamma(gas) * gas.T)"
   ]
  },
  {
   "cell_type": "code",
   "execution_count": null,
   "id": "496fb9c4-ce9e-4b2f-9687-fabca6f852c9",
   "metadata": {},
   "outputs": [],
   "source": [
    "def print_prop(gas:ct.Solution):\n",
    "    '''\n",
    "    This function prints the properties for a given station\n",
    "    \n",
    "    gas : Cantera object with gas conditions\n",
    "    '''\n",
    "    \n",
    "    print(f'p = {(gas.P / ct.one_atm):2.2f} atm,',\n",
    "      f'T = {(gas.T):2.0f} K,',\n",
    "      f'h = {(gas.enthalpy_mass):2.0f} kJ/kg,',\n",
    "      f's = {(gas.entropy_mass):2.0f} kJ/kg,')\n",
    "\n",
    "    \n",
    "def print_stations(st:list, station_names:dict, gas:dict, M:dict):\n",
    "    '''\n",
    "    This function prints the properties of all stations\n",
    "    \n",
    "    st : list with stations\n",
    "    station_names : dictionary with station names\n",
    "    gas : dictionary with gas objects\n",
    "    M : dictionary with Mach numbers\n",
    "    '''\n",
    "    \n",
    "    for station in st:\n",
    "        print(f'station {station:<7} ({station_names[station]:<22}): Mach {M[station]:.3f}, ', end=\"\")\n",
    "        print_prop(gas[station])"
   ]
  },
  {
   "cell_type": "code",
   "execution_count": null,
   "id": "373d5f49-e493-4ff6-82b2-45155781691c",
   "metadata": {},
   "outputs": [],
   "source": [
    "def plot_T_s(T:list, p:list, X:list, reaction_mechanism, phase_name):\n",
    "    '''\n",
    "    This function plots T-s states with isobars\n",
    "    \n",
    "    inputs\n",
    "    T    : list with temperatures\n",
    "    p    : list with pressures\n",
    "    X    : list with gas composition\n",
    "\n",
    "    \n",
    "    returns\n",
    "    fig : matplotlib figure\n",
    "    '''\n",
    "\n",
    "    to_st = len(T)\n",
    "    dummy_gas = (ct.Solution(reaction_mechanism, phase_name))\n",
    "\n",
    "    cycle_T = [0,0]\n",
    "    cycle_s = [0,0]\n",
    "    \n",
    "    fig, ax = plt.subplots()\n",
    "\n",
    "    for i in range(to_st):\n",
    "        dummy_gas.TPX = T[i], p[i], X[i]\n",
    "        \n",
    "        # ISOBARS\n",
    "        # create the T and s vectors for plotting the isobars\n",
    "        curve_P = p[i]\n",
    "        T_min = int(T[i]) - 100\n",
    "        T_max = int(T[i]) + 400\n",
    "    \n",
    "        n = T_max - T_min\n",
    "        s_isobar_data = []\n",
    "        T_isobar_data = []\n",
    "\n",
    "        for curve_T in range(T_min, T_max, 1):\n",
    "            dummy_gas.TP = curve_T, curve_P\n",
    "            s_isobar_data.append(dummy_gas.s)\n",
    "            T_isobar_data.append(dummy_gas.T)\n",
    "        ax.plot(s_isobar_data, T_isobar_data, linewidth=1, color='#31edd8', alpha=0.35)\n",
    "        \n",
    "        # State points\n",
    "        # create point pairs to be able to trace a line\n",
    "        dummy_gas.TPX = T[i], p[i], X[i]\n",
    "        cycle_T[0] = cycle_T[1]\n",
    "        cycle_s[0] = cycle_s[1]\n",
    "        cycle_T[1] = dummy_gas.T\n",
    "        cycle_s[1] = dummy_gas.entropy_mass\n",
    "        if i != 0:\n",
    "            ax.plot(cycle_s, cycle_T, color='green', marker='o', linestyle='dashed', linewidth=1, markersize=4)\n",
    "        \n",
    "\n",
    "           \n",
    "    ax.set_title('T-s Diagram')\n",
    "    ax.set_xlabel('Entropy kJ/kg')\n",
    "    ax.set_xlim(6800, 8500)\n",
    "    ax.set_ylabel('Temperature K')\n",
    "    ax.grid(visible=True, which='major', axis='both', alpha=0.1)\n",
    "    \n",
    "    return fig"
   ]
  },
  {
   "cell_type": "code",
   "execution_count": null,
   "id": "942f8819-a589-4444-bd04-e6b81b10b0b0",
   "metadata": {},
   "outputs": [],
   "source": [
    "eng_param = {} # engine physical parameters will be stored in this dictionary\n",
    "\n",
    "eng_perf = {} # engine performance parameters in this dictionary\n",
    "\n",
    "# engine parameters\n",
    "# inlet\n",
    "#   physical parameters\n",
    "eng_param['A1'] = 0.30 # m2 inlet area at station 1\n",
    "eng_param['A2'] = 0.32 # m2 inlet exit area at face of compressor\n",
    "#   performance parameters\n",
    "eng_perf['eta_i'] = 0.98 # this can be upgraded to vary with Mach and m_dot\n",
    "\n",
    "#--------------------------------------------------------------------------"
   ]
  },
  {
   "cell_type": "code",
   "execution_count": null,
   "id": "fcf5bd1e-8a1a-41d6-8e8c-b4d65fc1b816",
   "metadata": {},
   "outputs": [],
   "source": [
    "def iterate_inlet(mdot:float, \n",
    "                  A:float, \n",
    "                  gas_in:ct.Solution, \n",
    "                  eta_i:float, \n",
    "                  M_in:float, \n",
    "                  gas_out:ct.Solution)->(float, bool):\n",
    "    '''\n",
    "    This function iterates the gas velocity at inlet exit until convergence\n",
    "    \n",
    "    inputs\n",
    "    mdot : mass flow, in kg/s\n",
    "    A     : area, in m2\n",
    "    gas_in: Cantera solution object with gas at entrance of inlet\n",
    "    T_in  : stagnation temperature of gas at entrance of inlet, in K\n",
    "    p_in  : stagnation pressure of gas at entrance of inlet, in Pascals\n",
    "    eta_i : inlet efficiency\n",
    "    M_in  : Mach number for gas at entrance of inlet\n",
    "    gas_out: Cantera solution object with gas at exit of inlet\n",
    "    \n",
    "    returns\n",
    "    M_out : Mach number for gas at exit of inlet. Zero if no convergence reached\n",
    "    convergence: True if converged, False if not\n",
    "    indirect outputs\n",
    "    gas_out: Cantera solution containing updated gas properties\n",
    "    '''\n",
    "    # loop control\n",
    "    tol = 0.01 # tolerance to check for convergence\n",
    "    max_iter = 100 # maximum number of iterations\n",
    "    converged = False # keeps track of convergence\n",
    "    n_iter = 0 #iteration counter\n",
    "    \n",
    "    # calculated input gas properties\n",
    "    V_in = M_in * get_a(gas_in)\n",
    "    gamma_in = get_gamma(gas_in)\n",
    "    T_0in = get_T(gas_in.T, gamma_in, M_in)\n",
    "    p_0in = get_p(gas_in.P, gamma_in, M_in)\n",
    "\n",
    "    # initial guess\n",
    "    T_0out = T_0in\n",
    "    V_out_guess = mdot / (gas_in.density * A)\n",
    "    gamma_out = gamma_in\n",
    "    \n",
    "    \n",
    "    while not converged and n_iter <= max_iter:\n",
    "        \n",
    "        # calc properties using current guess\n",
    "        \n",
    "        T_out = gas_in.T + (V_in**2 / (2 * gas_in.cp) - V_out_guess**2 / (2 * gas_out.cp))\n",
    "        p_0out = gas_in.P * (1 + eta_i * V_in**2 / (2 * gas_in.cp * gas_in.T))**(gamma_in / (gamma_in - 1))\n",
    "        p_out = p_0out * (T_out / T_0out)**(gamma_out / (gamma_out - 1))\n",
    "              \n",
    "        # update gas to get new properties (especially density)\n",
    "        gas_out.TP = T_out, p_out\n",
    "        gamma_out = get_gamma(gas_out)\n",
    "        \n",
    "        # update velocity calculation with new gas properties\n",
    "        V_out = V_out_guess\n",
    "        V_out_guess = mdot / (gas_out.density * A)\n",
    "        \n",
    "        # check for convergnece\n",
    "        if abs(V_out - V_out_guess) < tol:\n",
    "            print(f'inlet finished, converged, niter={n_iter}')\n",
    "            converged = True\n",
    "            M_out = V_out / get_a(gas_out)\n",
    "        elif n_iter < max_iter:\n",
    "            n_iter += 1\n",
    "        else:\n",
    "            M_out = 0\n",
    "            print(f'inlet finished, NOT converged, niter={n_iter}')\n",
    "            \n",
    "    return M_out, converged "
   ]
  },
  {
   "cell_type": "code",
   "execution_count": null,
   "id": "18d71dd9-8be2-4ec4-ace9-cd46a3d435f4",
   "metadata": {},
   "outputs": [],
   "source": [
    "eng_op_con = {}\n",
    "eng_op_con['throttle_pos'] = 1.0 # 1 is full throttle; .5 is idle\n",
    "eng_op_con['mdot_guess'] = 20 # kg/s\n",
    "eng_op_con['alt'] = 35000 # ft\n",
    "eng_op_con['M_i'] = 0.8\n",
    "\n",
    "M_i = eng_op_con['M_i'] # indicated Mach number - aircraft\n",
    "V_i = ISA.M2Vt(eng_op_con['M_i'], eng_op_con['alt']) * ISA.kt2ms # true airspeed in kts\n",
    "p_amb = ISA.p(eng_op_con['alt']) # static\n",
    "T_amb = ISA.T(eng_op_con['alt']) # static"
   ]
  },
  {
   "cell_type": "code",
   "execution_count": null,
   "id": "92c49784-71fb-4e48-8c75-cfe57286161e",
   "metadata": {},
   "outputs": [],
   "source": [
    "gas = {} # dictionary with Cantera Solution (gas) objects for each station\n",
    "M = {} # Mach number for each station\n",
    "\n",
    "st = [\"a\", 1, 2, 3, 4, 5, 8] # station numbers\n",
    "station_names = {st[0]:'ambient',\n",
    "                 st[1]:'inlet',\n",
    "                 st[2]:'inlet @ comp. face',\n",
    "                 st[3]:'after compressor',\n",
    "                 st[4]:'after combustor',\n",
    "                 st[5]:'after turbine',\n",
    "                 st[6]:'nozzle exit'}\n",
    "\n",
    "# see https://github.com/Cantera/cantera/blob/main/data/nDodecane_Reitz.yaml\n",
    "reaction_mechanism = 'nDodecane_Reitz.yaml'\n",
    "phase_name = 'nDodecane_IG' # IG = ideal gas, other option is RK = Redlich-Kwong\n",
    "\n",
    "comp_air = 'O2:0.209, N2:0.787, CO2:0.004' # composition of air\n",
    "comp_fuel = 'c12h26:1' # composition of fuel\n",
    "\n",
    "\n",
    "# initialize all stations with air, at ambient conditions\n",
    "for station in st:\n",
    "    gas[station] = (ct.Solution(reaction_mechanism, phase_name))\n",
    "    gas[station].X = comp_air\n",
    "    gas[station].TP = T_amb, p_amb\n",
    "        \n",
    "    M[station] = M_i"
   ]
  },
  {
   "cell_type": "code",
   "execution_count": null,
   "id": "7e531b9f-d83a-4e89-8953-a6f203ae1b0d",
   "metadata": {},
   "outputs": [],
   "source": [
    "M_calc, conv = iterate_inlet(eng_op_con['mdot_guess'],\n",
    "                             eng_param['A1'],\n",
    "                             gas[st[0]],\n",
    "                             1, # isentropic thus efficiency=1\n",
    "                             M[st[0]],\n",
    "                             gas[st[1]])\n",
    "\n",
    "# we only assign the Mach number if we reached convergnece\n",
    "if conv: M[st[1]] = M_calc"
   ]
  },
  {
   "cell_type": "code",
   "execution_count": null,
   "id": "b4bcfde1-66ce-4e6d-9727-0466bc14fcde",
   "metadata": {},
   "outputs": [],
   "source": [
    "st_T = []\n",
    "st_p = []\n",
    "st_X = []\n",
    "\n",
    "# get T, p, X from each station that we already calculated\n",
    "for x in range(0, 2):\n",
    "    st_T.append(gas[st[x]].T)\n",
    "    st_p.append(gas[st[x]].P)\n",
    "    st_X.append(gas[st[x]].X)"
   ]
  },
  {
   "cell_type": "code",
   "execution_count": null,
   "id": "2fcb6a29-5375-4166-8182-213476885a92",
   "metadata": {},
   "outputs": [],
   "source": [
    "print_stations(st[0:2], station_names, gas, M)\n",
    "\n",
    "myplot = plot_T_s(st_T, st_p, st_X, reaction_mechanism, phase_name)"
   ]
  }
 ],
 "metadata": {
  "kernelspec": {
   "display_name": "Python 3 (ipykernel)",
   "language": "python",
   "name": "python3"
  },
  "language_info": {
   "codemirror_mode": {
    "name": "ipython",
    "version": 3
   },
   "file_extension": ".py",
   "mimetype": "text/x-python",
   "name": "python",
   "nbconvert_exporter": "python",
   "pygments_lexer": "ipython3",
   "version": "3.10.6"
  }
 },
 "nbformat": 4,
 "nbformat_minor": 5
}
