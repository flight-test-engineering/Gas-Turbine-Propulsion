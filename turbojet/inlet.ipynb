{
 "cells": [
  {
   "cell_type": "markdown",
   "id": "9191ce65-de1a-478b-a4c0-bed8bc1fc29a",
   "metadata": {},
   "source": [
    "# A Small Recap\n",
    "\n",
    "Ideal Gas"
   ]
  },
  {
   "cell_type": "markdown",
   "id": "dd8312e6-d3d1-4645-8cee-f18f317968d6",
   "metadata": {
    "tags": []
   },
   "source": [
    "Isentropic Process\n",
    "\n",
    "* $pV^{\\gamma}=k$; $p=k\\rho^{\\gamma}$ -> $dp=\\gamma k \\rho^{\\gamma -1}d\\rho$\n",
    "\n",
    "Isentropic Compression\n",
    "\n",
    "* $\\frac{T_2}{T_1}=(\\frac{p_2}{p_1})^{\\frac{\\gamma-1}{\\gamma}}$  >>>or<<<   $\\frac{p_2}{p_1}=(\\frac{T_2}{T_1})^{\\frac{\\gamma}{\\gamma-1}}$\n"
   ]
  },
  {
   "cell_type": "markdown",
   "id": "0185437e-3717-4ce6-8b48-f42950b6f076",
   "metadata": {
    "tags": []
   },
   "source": [
    "Bernoulli / Compressible \n",
    "\n",
    "* $\\frac{p_0}{p} = (1+ \\frac{\\gamma-1}{2} M^2)^{\\frac{\\gamma}{\\gamma - 1}} = (1+ \\frac{V^2}{2 c_p T_s})^{\\frac{\\gamma}{\\gamma - 1}}$"
   ]
  },
  {
   "cell_type": "markdown",
   "id": "c496dc68-0948-4092-aa34-225c2557b722",
   "metadata": {
    "tags": []
   },
   "source": [
    "Compression Efficiency\n",
    "\n",
    "* $\\eta_c = \\frac{w_{c,s}}{w_c} = \\frac{h_{2}^\\prime-h_1}{h_2-h_1} = \\frac{c_p(T_{2}^\\prime-T_1)}{c_p(T_2-T_1)}$"
   ]
  },
  {
   "cell_type": "markdown",
   "id": "324bf1e0-0515-45a0-a521-991486268c1a",
   "metadata": {
    "tags": []
   },
   "source": [
    "![037](pictures/compression_efficiency.svg)\n"
   ]
  },
  {
   "cell_type": "markdown",
   "id": "d183e403-898f-4ffe-aee5-859cd63e6beb",
   "metadata": {
    "tags": []
   },
   "source": [
    "Some basic relationships\n",
    "\n",
    "$M=\\frac{V}{\\sqrt{\\gamma RT_{static}}}$\n",
    "\n",
    "$\\gamma R = c_p (\\gamma - 1)$"
   ]
  },
  {
   "cell_type": "markdown",
   "id": "3e4367fe-6556-458d-9936-73961ecaec12",
   "metadata": {
    "tags": []
   },
   "source": [
    "# Inlet Diffuser"
   ]
  },
  {
   "cell_type": "markdown",
   "id": "7d98affb-dba7-4b32-98e1-83dae7bc0034",
   "metadata": {
    "tags": []
   },
   "source": [
    "The conditions far away from the engine, at Station \"a\" (for ambient), are:\n",
    "\n",
    "$T_{a_{static}}$, $P_{a_{static}}$, and $M_a$\n",
    "\n",
    "If we now define *sub \"0\"* to mean \"stagnation\"...\n",
    "\n",
    "so $T_{01}$ is the stagnation pressure at station 1;\n",
    "\n",
    "   $T_{0a}$ is the stagnation pressure at station \"a\"\n",
    "\n",
    "and $T_{a}$ is the static pressure at station \"a\""
   ]
  },
  {
   "cell_type": "markdown",
   "id": "95b1186c-b0ae-4488-9fb7-3aa0890402f8",
   "metadata": {},
   "source": [
    ">>*fluid properties parenthesis*"
   ]
  },
  {
   "cell_type": "markdown",
   "id": "29d7fbaa-3cc4-4038-8949-8af3e2076412",
   "metadata": {
    "tags": []
   },
   "source": [
    "#### Isentropic flow up to duct inlet\n",
    "\n",
    "Let's assume there are no losses from Station \"a\" to Station 1.\n",
    "\n",
    "$P_{01} = P_{0a} = P_{a} (1 + \\frac{\\gamma - 1}{2}M_a^{2})^\\frac{\\gamma}{\\gamma -1} = P_{a} (1+ \\frac{V_{a}^2}{2 c_p T_a})^{\\frac{\\gamma}{\\gamma - 1}}$\n",
    "\n",
    "$T_{01} = T_{0a} = T_{a} (1 + \\frac{\\gamma - 1}{2}M_a^{2}) = T_{a}+ (\\frac{V_{a}^2}{2 c_p} )$"
   ]
  },
  {
   "cell_type": "markdown",
   "id": "313c19c1-0b9e-4080-a5bb-f085aed3618a",
   "metadata": {
    "tags": []
   },
   "source": [
    "#### Adiabatic Duct\n",
    "\n",
    "Inside the inlet duct, we have friction losses, but no heat transfer\n",
    "\n",
    "$T_{02}=T_{01}=T_{0a} $ -> stagnation temperatures are the same\n",
    "\n",
    "$=> T_{02}=T_{01}= T_{1} + \\frac{V_1^2}{2c_{p1}}$\n",
    "\n",
    "$T_{02} - T_{1} =  \\frac{V_1^2}{2c_{p1}} $\n",
    "\n",
    "$=> T_{1} + \\frac{V_1^2}{2c_{p1}} = T_{2} + \\frac{V_2^2}{2c_{p2}} $\n",
    "\n",
    "$T_{2} = T_{1} + \\frac{V_1^2}{2c_{p1}} - \\frac{V_2^2}{2c_{p2}}$"
   ]
  },
  {
   "cell_type": "markdown",
   "id": "793a6dce-c025-4525-aa54-5d2a44eee940",
   "metadata": {
    "tags": []
   },
   "source": [
    "#### if it was isentropic...\n",
    "\n",
    "And if we had isentropic compression, we could write:\n",
    "\n",
    "$\\frac{p_{02}}{p_{1}} = (\\frac{T_{02}^\\prime}{T_{1}})^{\\frac{\\gamma}{\\gamma -1}}$\n",
    "\n",
    "which can be re-written as:\n",
    "\n",
    "$\\frac{p_{02}}{p_{1}} = (1 +  \\frac{T_{02}^{'} - T_{1}}{T_{1}})^{\\frac{\\gamma}{\\gamma -1}}$\n",
    "\n"
   ]
  },
  {
   "cell_type": "markdown",
   "id": "9705a842-798d-491a-9fe7-9312c22a05f1",
   "metadata": {
    "tags": []
   },
   "source": [
    "#### considering the definition of inlet efficiency...\n",
    "\n",
    "\n",
    "\n",
    "$\\eta_i=\\frac{T_{02}^{'}-T_{1}}{T_{02}-T_{1}}$\n",
    "\n",
    "$T_{02}^{'}-T_{1}=\\eta_i(T_{02}-T_{1})$ \n",
    "\n",
    "$\\frac{p_{02}}{p_{1}} = (1 +  \\frac{\\eta_i(T_{02}-T_{1})}{T_{1}})^{\\frac{\\gamma}{\\gamma -1}}$\n",
    "\n",
    "But $T_{02} - T_{1} =  \\frac{V_1^2}{2c_{p1}} $\n",
    "\n",
    "\n",
    "$\\frac{p_{02}}{p_{1}} = (1 + \\frac{\\eta_i V_1^2}{2c_{p1}T_{1}})^{\\frac{\\gamma}{\\gamma -1}}$"
   ]
  },
  {
   "cell_type": "markdown",
   "id": "bf6ebf46-a135-4030-8259-ab6e19b524fd",
   "metadata": {
    "tags": []
   },
   "source": [
    "#### mass flow\n",
    "\n",
    "$\\dot{m}=\\rho V A$"
   ]
  },
  {
   "cell_type": "code",
   "execution_count": null,
   "id": "e3c7f25d-1b62-4256-9f94-1b985f68fd01",
   "metadata": {
    "tags": []
   },
   "outputs": [],
   "source": [
    "#01 - preamble, imports\n",
    "\n",
    "import numpy as np\n",
    "import matplotlib.pyplot as plt\n",
    "plt.style.use('dark_background')\n",
    "plt.rcParams['figure.figsize'] = [12, 7]\n",
    "import cantera as ct\n",
    "import ISA_module as ISA\n"
   ]
  },
  {
   "cell_type": "code",
   "execution_count": null,
   "id": "934d81e5-5dd5-403f-aacd-937180b2508e",
   "metadata": {
    "tags": []
   },
   "outputs": [],
   "source": [
    "ct.__version__"
   ]
  },
  {
   "cell_type": "code",
   "execution_count": null,
   "id": "e81a1ed2-3cf1-41db-822e-81e57baaa156",
   "metadata": {},
   "outputs": [],
   "source": [
    "def get_p(ps:float, \n",
    "          gamma:float, \n",
    "          M:float)->float:\n",
    "    '''\n",
    "    This function calculates the stagnation pressure for isentropic process, given:\n",
    "    \n",
    "    ps: static pressure\n",
    "    gamma: cp/cv for the gas\n",
    "    M: Mach number\n",
    "    '''\n",
    "    return ps * ((1 + ((gamma - 1) / 2) * M**2)**(gamma / (gamma - 1)))\n",
    "\n",
    "\n",
    "def get_T(Ts:float, \n",
    "          gamma:float, \n",
    "          M:float)->float:\n",
    "    '''\n",
    "    This function calculates the stagnation temperature for isentropic process, given:\n",
    "    \n",
    "    Ts: static temperature\n",
    "    gamma: cp/cv for the gas\n",
    "    M: Mach number\n",
    "    '''\n",
    "    return Ts * (1 + ((gamma - 1) / 2) * M**2)"
   ]
  },
  {
   "cell_type": "code",
   "execution_count": null,
   "id": "a8864f74-8094-4da9-a385-49584c739dd7",
   "metadata": {},
   "outputs": [],
   "source": [
    "def get_Ts(T:float, \n",
    "           gamma:float, \n",
    "           M:float)->float:\n",
    "    '''\n",
    "    This function calculates the static temperature for isentropic process, given:\n",
    "    \n",
    "    T: stagnation or toal temperature\n",
    "    gamma: cp/cv for the gas\n",
    "    M: Mach number\n",
    "    '''\n",
    "    return T / (1 + ((gamma - 1) / 2) * M**2)\n",
    "\n",
    "\n",
    "\n",
    "def get_ps(p:float, \n",
    "           Ts:float, \n",
    "           Tt:float, \n",
    "           gamma:float)->float:\n",
    "    '''\n",
    "    This function calculates the static pressure for isentropic process, given:\n",
    "    \n",
    "    p: stagnation pressure\n",
    "    Ts: static temperature\n",
    "    Tt: stagnation temperature\n",
    "    gamma: cp/cv for the gas\n",
    "    '''\n",
    "    return p * (Ts / Tt)**(gamma / (gamma - 1))"
   ]
  },
  {
   "cell_type": "code",
   "execution_count": null,
   "id": "e1e3cd56-24fe-448b-8e6d-afe5cc26c341",
   "metadata": {},
   "outputs": [],
   "source": [
    "def get_gamma(gas:ct.Solution)->float:\n",
    "    '''\n",
    "    This function calculates gamma, given:\n",
    "    \n",
    "    gas: Cantera Solution object\n",
    "    '''\n",
    "    return gas.cp / gas.cv\n",
    "\n",
    "\n",
    "\n",
    "def get_R(gas:ct.Solution)->float:\n",
    "    '''\n",
    "    This function calculates the gas constant, given:\n",
    "    \n",
    "    gas: Cantera Solution object\n",
    "    '''\n",
    "    return gas.cp - gas.cv\n",
    "\n",
    "\n",
    "\n",
    "def get_a(gas:ct.Solution)->float:\n",
    "    '''\n",
    "    This function calculates the local speed of sound, given:\n",
    "    \n",
    "    gas: Cantera Solution object\n",
    "    '''\n",
    "    return np.sqrt(get_R(gas) * get_gamma(gas) * gas.T)"
   ]
  },
  {
   "cell_type": "code",
   "execution_count": null,
   "id": "496fb9c4-ce9e-4b2f-9687-fabca6f852c9",
   "metadata": {},
   "outputs": [],
   "source": [
    "def print_prop(gas:ct.Solution):\n",
    "    '''\n",
    "    This function prints the properties for a given station\n",
    "    \n",
    "    gas : Cantera object with gas conditions\n",
    "    '''\n",
    "    \n",
    "    print(f'p = {(gas.P / ct.one_atm):2.2f} atm,',\n",
    "      f'T = {(gas.T):2.0f} K,',\n",
    "      f'h = {(gas.enthalpy_mass):2.0f} kJ/kg,',\n",
    "      f's = {(gas.entropy_mass):2.0f} kJ/kg,')\n",
    "\n",
    "    \n",
    "def print_stations(st:list, station_names:dict, gas:dict, M:dict):\n",
    "    '''\n",
    "    This function prints the properties of all stations\n",
    "    \n",
    "    st : list with stations\n",
    "    station_names : dictionary with station names\n",
    "    gas : dictionary with gas objects\n",
    "    M : dictionary with Mach numbers\n",
    "    '''\n",
    "    \n",
    "    for station in st:\n",
    "        print(f'station {station:<7} ({station_names[station]:<22}): Mach {M[station]:.3f}, ', end=\"\")\n",
    "        print_prop(gas[station])"
   ]
  }
 ],
 "metadata": {
  "kernelspec": {
   "display_name": "Python 3 (ipykernel)",
   "language": "python",
   "name": "python3"
  },
  "language_info": {
   "codemirror_mode": {
    "name": "ipython",
    "version": 3
   },
   "file_extension": ".py",
   "mimetype": "text/x-python",
   "name": "python",
   "nbconvert_exporter": "python",
   "pygments_lexer": "ipython3",
   "version": "3.10.6"
  }
 },
 "nbformat": 4,
 "nbformat_minor": 5
}
