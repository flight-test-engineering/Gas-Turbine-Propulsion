{
 "cells": [
  {
   "cell_type": "markdown",
   "id": "69ceb9a7-7365-40ac-b807-0144034e4ffa",
   "metadata": {},
   "source": [
    "# A Small Recap\n",
    "\n",
    "Ideal Gas"
   ]
  },
  {
   "cell_type": "markdown",
   "id": "ff4be52b-d9f3-4ce3-8727-e5950d607a33",
   "metadata": {
    "tags": []
   },
   "source": [
    "Isentropic Process\n",
    "\n",
    "* $pV^{\\gamma}=k$; $p=k\\rho^{\\gamma}$ -> $dp=\\gamma k \\rho^{\\gamma -1}d\\rho$\n",
    "\n",
    "Isentropic Compression\n",
    "\n",
    "* $\\frac{T_2}{T_1}=(\\frac{p_2}{p_1})^{\\frac{\\gamma-1}{\\gamma}}$  >>>or<<<   $\\frac{p_2}{p_1}=(\\frac{T_2}{T_1})^{\\frac{\\gamma}{\\gamma-1}}$\n"
   ]
  },
  {
   "cell_type": "markdown",
   "id": "573d4761-5cfa-4cf5-bc06-884843a19aa5",
   "metadata": {
    "tags": []
   },
   "source": [
    "Bernoulli / Compressible \n",
    "\n",
    "* $\\frac{p_0}{p} = (1+ \\frac{\\gamma-1}{2} M^2)^{\\frac{\\gamma}{\\gamma - 1}} = (1+ \\frac{V^2}{2 c_p T_s})^{\\frac{\\gamma}{\\gamma - 1}}$"
   ]
  },
  {
   "cell_type": "markdown",
   "id": "86b38c41-5bf1-4261-a8ac-d819dbd4ae0a",
   "metadata": {
    "tags": []
   },
   "source": [
    "Compression Efficiency\n",
    "\n",
    "* $\\eta_c = \\frac{w_{c,s}}{w_c} = \\frac{h_{2}^\\prime-h_1}{h_2-h_1} = \\frac{c_p(T_{2}^\\prime-T_1)}{c_p(T_2-T_1)}$"
   ]
  },
  {
   "cell_type": "markdown",
   "id": "b54757f0-4c5b-45f4-9f5b-3cdebce19848",
   "metadata": {
    "tags": []
   },
   "source": [
    "![037](pictures/compression_efficiency.svg)\n"
   ]
  },
  {
   "cell_type": "markdown",
   "id": "183c93f7-2408-4363-8e4e-cdd7dfe26508",
   "metadata": {
    "tags": []
   },
   "source": [
    "Some basic relationships\n",
    "\n",
    "$M=\\frac{V}{\\sqrt{\\gamma RT_{static}}}$\n",
    "\n",
    "$\\gamma R = c_p (\\gamma - 1)$"
   ]
  },
  {
   "cell_type": "markdown",
   "id": "04d9b2ca-2bf4-4ee4-883f-3b590965739d",
   "metadata": {
    "tags": []
   },
   "source": [
    "# Inlet Diffuser"
   ]
  },
  {
   "cell_type": "markdown",
   "id": "6c2729dd-1190-4c6c-bd05-36751e25ded5",
   "metadata": {
    "tags": []
   },
   "source": [
    "The conditions far away from the engine, at Station \"a\" (for ambient), are:\n",
    "\n",
    "$T_{a_{static}}$, $P_{a_{static}}$, and $M_a$\n",
    "\n",
    "If we now define *sub \"0\"* to mean \"stagnation\"...\n",
    "\n",
    "so $T_{01}$ is the stagnation pressure at station 1;\n",
    "\n",
    "   $T_{0a}$ is the stagnation pressure at station \"a\"\n",
    "\n",
    "and $T_{a}$ is the static pressure at station \"a\""
   ]
  },
  {
   "cell_type": "markdown",
   "id": "d3625147-5ecb-4418-97e0-1813d56e7329",
   "metadata": {},
   "source": [
    ">>*fluid properties parenthesis*"
   ]
  },
  {
   "cell_type": "markdown",
   "id": "38fa00fd-ded9-46c2-ada8-a543d1838eb1",
   "metadata": {
    "tags": []
   },
   "source": [
    "#### Isentropic flow up to duct inlet\n",
    "\n",
    "Let's assume there are no losses from Station \"a\" to Station 1.\n",
    "\n",
    "$P_{01} = P_{0a} = P_{a} (1 + \\frac{\\gamma - 1}{2}M_a^{2})^\\frac{\\gamma}{\\gamma -1} = P_{a} (1+ \\frac{V_{a}^2}{2 c_p T_a})^{\\frac{\\gamma}{\\gamma - 1}}$\n",
    "\n",
    "$T_{01} = T_{0a} = T_{a} (1 + \\frac{\\gamma - 1}{2}M_a^{2}) = T_{a}+ (\\frac{V_{a}^2}{2 c_p} )$"
   ]
  },
  {
   "cell_type": "markdown",
   "id": "e614b771-e53b-4d31-bef6-41b75faae285",
   "metadata": {
    "tags": []
   },
   "source": [
    "#### Adiabatic Duct\n",
    "\n",
    "Inside the inlet duct, we have friction losses, but no heat transfer\n",
    "\n",
    "$T_{02}=T_{01}=T_{0a} $ -> stagnation temperatures are the same\n",
    "\n",
    "$=> T_{02}=T_{01}= T_{1} + \\frac{V_1^2}{2c_{p1}}$\n",
    "\n",
    "$T_{02} - T_{1} =  \\frac{V_1^2}{2c_{p1}} $\n",
    "\n",
    "$=> T_{1} + \\frac{V_1^2}{2c_{p1}} = T_{2} + \\frac{V_2^2}{2c_{p2}} $\n",
    "\n",
    "$T_{2} = T_{1} + \\frac{V_1^2}{2c_{p1}} - \\frac{V_2^2}{2c_{p2}}$"
   ]
  },
  {
   "cell_type": "markdown",
   "id": "24a4154b-356c-4a52-afef-a547b1afb105",
   "metadata": {
    "tags": []
   },
   "source": [
    "#### if it was isentropic...\n",
    "\n",
    "And if we had isentropic compression, we could write:\n",
    "\n",
    "$\\frac{p_{02}}{p_{1}} = (\\frac{T_{02}^\\prime}{T_{1}})^{\\frac{\\gamma}{\\gamma -1}}$\n",
    "\n",
    "which can be re-written as:\n",
    "\n",
    "$\\frac{p_{02}}{p_{1}} = (1 +  \\frac{T_{02}^{'} - T_{1}}{T_{1}})^{\\frac{\\gamma}{\\gamma -1}}$\n",
    "\n"
   ]
  },
  {
   "cell_type": "markdown",
   "id": "0ca6d77c-3e24-4700-918a-7d6284df4aeb",
   "metadata": {
    "tags": []
   },
   "source": [
    "#### considering the definition of inlet efficiency...\n",
    "\n",
    "\n",
    "\n",
    "$\\eta_i=\\frac{T_{02}^{'}-T_{1}}{T_{02}-T_{1}}$\n",
    "\n",
    "$T_{02}^{'}-T_{1}=\\eta_i(T_{02}-T_{1})$ \n",
    "\n",
    "$\\frac{p_{02}}{p_{1}} = (1 +  \\frac{\\eta_i(T_{02}-T_{1})}{T_{1}})^{\\frac{\\gamma}{\\gamma -1}}$\n",
    "\n",
    "But $T_{02} - T_{1} =  \\frac{V_1^2}{2c_{p1}} $\n",
    "\n",
    "\n",
    "$\\frac{p_{02}}{p_{1}} = (1 + \\frac{\\eta_i V_1^2}{2c_{p1}T_{1}})^{\\frac{\\gamma}{\\gamma -1}}$"
   ]
  },
  {
   "cell_type": "markdown",
   "id": "f8be1b1a-9908-4558-9aff-692657af9ec0",
   "metadata": {
    "tags": []
   },
   "source": [
    "#### mass flow\n",
    "\n",
    "$\\dot{m}=\\rho V A$"
   ]
  },
  {
   "cell_type": "code",
   "execution_count": null,
   "id": "7e1d8654-3c82-49d0-aa0e-393894db7eb8",
   "metadata": {
    "tags": []
   },
   "outputs": [],
   "source": [
    "#01 - preamble, imports\n",
    "\n",
    "import numpy as np\n",
    "import matplotlib.pyplot as plt\n",
    "plt.style.use('dark_background')\n",
    "plt.rcParams['figure.figsize'] = [12, 7]\n",
    "import cantera as ct\n",
    "import ISA_module as ISA\n",
    "\n",
    "###from engine_helper_functions import *"
   ]
  },
  {
   "cell_type": "code",
   "execution_count": null,
   "id": "8f3ebdf0-bc33-49e5-a184-7adf8e372ac4",
   "metadata": {
    "tags": []
   },
   "outputs": [],
   "source": [
    "ct.__version__"
   ]
  },
  {
   "cell_type": "code",
   "execution_count": null,
   "id": "19316b3c-a837-44ba-a28f-39bfb8f9e320",
   "metadata": {},
   "outputs": [],
   "source": [
    "# helper functions -> move to separate file\n",
    "\n",
    "def get_p(ps:float, \n",
    "          gamma:float, \n",
    "          M:float)->float:\n",
    "    '''\n",
    "    This function calculates the stagnation pressure for isentropic process, given:\n",
    "    \n",
    "    ps: static pressure\n",
    "    gamma: cp/cv for the gas\n",
    "    M: Mach number\n",
    "    '''\n",
    "    return ps * ((1 + ((gamma - 1) / 2) * M**2)**(gamma / (gamma - 1)))\n",
    "\n",
    "\n",
    "def get_T(Ts:float, \n",
    "          gamma:float, \n",
    "          M:float)->float:\n",
    "    '''\n",
    "    This function calculates the stagnation temperature for isentropic process, given:\n",
    "    \n",
    "    Ts: static temperature\n",
    "    gamma: cp/cv for the gas\n",
    "    M: Mach number\n",
    "    '''\n",
    "    return Ts * (1 + ((gamma - 1) / 2) * M**2)\n",
    "\n",
    "\n",
    "\n",
    "def get_Ts(T:float, \n",
    "           gamma:float, \n",
    "           M:float)->float:\n",
    "    '''\n",
    "    This function calculates the static temperature for isentropic process, given:\n",
    "    \n",
    "    T: stagnation or toal temperature\n",
    "    gamma: cp/cv for the gas\n",
    "    M: Mach number\n",
    "    '''\n",
    "    return T / (1 + ((gamma - 1) / 2) * M**2)\n",
    "\n",
    "\n",
    "\n",
    "def get_ps(p:float, \n",
    "           Ts:float, \n",
    "           Tt:float, \n",
    "           gamma:float)->float:\n",
    "    '''\n",
    "    This function calculates the static pressure for isentropic process, given:\n",
    "    \n",
    "    p: stagnation pressure\n",
    "    Ts: static temperature\n",
    "    Tt: stagnation temperature\n",
    "    gamma: cp/cv for the gas\n",
    "    '''\n",
    "    return p * (Ts / Tt)**(gamma / (gamma - 1))\n",
    "\n",
    "\n",
    "\n",
    "def get_gamma(gas:ct.Solution)->float:\n",
    "    '''\n",
    "    This function calculates gamma, given:\n",
    "    \n",
    "    gas: Cantera Solution object\n",
    "    '''\n",
    "    return gas.cp / gas.cv\n",
    "\n",
    "\n",
    "\n",
    "def get_R(gas:ct.Solution)->float:\n",
    "    '''\n",
    "    This function calculates the gas constant, given:\n",
    "    \n",
    "    gas: Cantera Solution object\n",
    "    '''\n",
    "    return gas.cp - gas.cv\n",
    "\n",
    "\n",
    "\n",
    "def get_a(gas:ct.Solution)->float:\n",
    "    '''\n",
    "    This function calculates the local speed of sound, given:\n",
    "    \n",
    "    gas: Cantera Solution object\n",
    "    '''\n",
    "    return np.sqrt(get_R(gas) * get_gamma(gas) * gas.T)\n",
    "\n",
    "\n",
    "\n",
    "def print_prop(gas:ct.Solution):\n",
    "    '''\n",
    "    This function prints the properties for a given station\n",
    "    \n",
    "    gas : Cantera object with gas conditions\n",
    "    '''\n",
    "    \n",
    "    print(f'p = {(gas.P / ct.one_atm):2.2f} atm,',\n",
    "      f'T = {(gas.T):2.0f} K,',\n",
    "      f'h = {(gas.enthalpy_mass):2.0f} kJ/kg,',\n",
    "      f's = {(gas.entropy_mass):2.0f} kJ/kg,')\n",
    "\n",
    "    \n",
    "def print_stations(st:list, station_names:dict, gas:dict, M:dict):\n",
    "    '''\n",
    "    This function prints the properties of all stations\n",
    "    \n",
    "    st : list with stations\n",
    "    station_names : dictionary with station names\n",
    "    gas : dictionary with gas objects\n",
    "    M : dictionary with Mach numbers\n",
    "    '''\n",
    "    \n",
    "    for station in st:\n",
    "        print(f'station {station:<7} ({station_names[station]:<22}): Mach {M[station]:.3f}, ', end=\"\")\n",
    "        print_prop(gas[station])\n",
    "\n",
    "\n",
    "        \n",
    "def plot_T_s(T:list, p:list, X:list, reaction_mechanism, phase_name):\n",
    "    '''\n",
    "    This function plots T-s states with isobars\n",
    "    \n",
    "    inputs\n",
    "    T    : list with temperatures\n",
    "    p    : list with pressures\n",
    "    X    : list with gas composition\n",
    "\n",
    "    \n",
    "    returns\n",
    "    fig : matplotlib figure\n",
    "    '''\n",
    "\n",
    "    to_st = len(T)\n",
    "    dummy_gas = (ct.Solution(reaction_mechanism, phase_name))\n",
    "\n",
    "    cycle_T = [0,0]\n",
    "    cycle_s = [0,0]\n",
    "    \n",
    "    fig, ax = plt.subplots()\n",
    "\n",
    "    for i in range(to_st):\n",
    "        dummy_gas.TPX = T[i], p[i], X[i]\n",
    "        \n",
    "        # ISOBARS\n",
    "        # create the T and s vectors for plotting the isobars\n",
    "        curve_P = p[i]\n",
    "        T_min = int(T[i]) - 100\n",
    "        T_max = int(T[i]) + 400\n",
    "    \n",
    "        n = T_max - T_min\n",
    "        s_isobar_data = []\n",
    "        T_isobar_data = []\n",
    "\n",
    "        for curve_T in range(T_min, T_max, 1):\n",
    "            dummy_gas.TP = curve_T, curve_P\n",
    "            s_isobar_data.append(dummy_gas.s)\n",
    "            T_isobar_data.append(dummy_gas.T)\n",
    "        ax.plot(s_isobar_data, T_isobar_data, linewidth=1, color='#31edd8', alpha=0.35)\n",
    "        \n",
    "        # State points\n",
    "        # create point pairs to be able to trace a line\n",
    "        dummy_gas.TPX = T[i], p[i], X[i]\n",
    "        cycle_T[0] = cycle_T[1]\n",
    "        cycle_s[0] = cycle_s[1]\n",
    "        cycle_T[1] = dummy_gas.T\n",
    "        cycle_s[1] = dummy_gas.entropy_mass\n",
    "        if i != 0:\n",
    "            ax.plot(cycle_s, cycle_T, color='green', marker='o', linestyle='dashed', linewidth=1, markersize=4)\n",
    "        \n",
    "\n",
    "           \n",
    "    ax.set_title('T-s Diagram')\n",
    "    ax.set_xlabel('Entropy kJ/kg')\n",
    "    ax.set_xlim(6800, 8500)\n",
    "    ax.set_ylabel('Temperature K')\n",
    "    ax.grid(visible=True, which='major', axis='both', alpha=0.1)\n",
    "    \n",
    "    return fig"
   ]
  },
  {
   "cell_type": "raw",
   "id": "95b66723-6012-4740-8d3f-4a6b44df43fd",
   "metadata": {},
   "source": []
  },
  {
   "cell_type": "code",
   "execution_count": null,
   "id": "27716622-c328-4d70-b0d8-2edbdfbaf18f",
   "metadata": {},
   "outputs": [],
   "source": [
    "#02 - engine parameters definitions\n",
    "\n",
    "eng_param = {} # engine physical parameters will be stored in this dictionary\n",
    "\n",
    "eng_perf = {} # engine performance parameters in this dictionary\n",
    "\n",
    "# engine parameters\n",
    "# inlet\n",
    "#   physical parameters\n",
    "eng_param['A1'] = 0.30 # m2 inlet area at station 1\n",
    "eng_param['A2'] = 0.32 # m2 inlet exit area at face of compressor\n",
    "#   performance parameters\n",
    "eng_perf['eta_i'] = 0.98 # this can be upgraded to vary with Mach and m_dot\n",
    "\n",
    "#--------------------------------------------------------------------------\n",
    "\n"
   ]
  },
  {
   "cell_type": "code",
   "execution_count": null,
   "id": "ffd0fa52-1a0e-4d22-aa37-0566f856b644",
   "metadata": {
    "tags": []
   },
   "outputs": [],
   "source": [
    "#03 - inlet iterative function\n",
    "\n",
    "def iterate_inlet(mdot:float, \n",
    "                  A:float, \n",
    "                  gas_in:ct.Solution, \n",
    "                  eta_i:float, \n",
    "                  M_in:float, \n",
    "                  gas_out:ct.Solution)->(float, bool):\n",
    "    '''\n",
    "    This function iterates the gas velocity at inlet exit until convergence\n",
    "    \n",
    "    inputs\n",
    "    mdot : mass flow, in kg/s\n",
    "    A     : area, in m2\n",
    "    gas_in: Cantera solution object with gas at entrance of inlet\n",
    "    T_in  : stagnation temperature of gas at entrance of inlet, in K\n",
    "    p_in  : stagnation pressure of gas at entrance of inlet, in Pascals\n",
    "    eta_i : inlet efficiency\n",
    "    M_in  : Mach number for gas at entrance of inlet\n",
    "    gas_out: Cantera solution object with gas at exit of inlet\n",
    "    \n",
    "    returns\n",
    "    M_out : Mach number for gas at exit of inlet. Zero if no convergence reached\n",
    "    convergence: True if converged, False if not\n",
    "    indirect outputs\n",
    "    gas_out: Cantera solution containing updated gas properties\n",
    "    '''\n",
    "    # loop control\n",
    "    tol = 0.01 # tolerance to check for convergence\n",
    "    max_iter = 100 # maximum number of iterations\n",
    "    converged = False # keeps track of convergence\n",
    "    n_iter = 0 #iteration counter\n",
    "    \n",
    "    # calculated input gas properties\n",
    "    V_in = M_in * get_a(gas_in)\n",
    "    gamma_in = get_gamma(gas_in)\n",
    "    T_0in = get_T(gas_in.T, gamma_in, M_in)\n",
    "    p_0in = get_p(gas_in.P, gamma_in, M_in)\n",
    "\n",
    "    # initial guess\n",
    "    T_0out = T_0in\n",
    "    V_out_guess = mdot / (gas_in.density * A)\n",
    "    gamma_out = gamma_in\n",
    "    \n",
    "    \n",
    "    while not converged and n_iter <= max_iter:\n",
    "        \n",
    "        # calc properties using current guess\n",
    "        \n",
    "        T_out = gas_in.T + (V_in**2 / (2 * gas_in.cp) - V_out_guess**2 / (2 * gas_out.cp))\n",
    "        p_0out = gas_in.P * (1 + eta_i * V_in**2 / (2 * gas_in.cp * gas_in.T))**(gamma_in / (gamma_in - 1))\n",
    "        p_out = p_0out * (T_out / T_0out)**(gamma_out / (gamma_out - 1))\n",
    "              \n",
    "        # update gas to get new properties (especially density)\n",
    "        gas_out.TP = T_out, p_out\n",
    "        gamma_out = get_gamma(gas_out)\n",
    "        \n",
    "        # update velocity calculation with new gas properties\n",
    "        V_out = V_out_guess\n",
    "        V_out_guess = mdot / (gas_out.density * A)\n",
    "        \n",
    "        # check for convergnece\n",
    "        if abs(V_out - V_out_guess) < tol:\n",
    "            print(f'inlet finished, converged, niter={n_iter}')\n",
    "            converged = True\n",
    "            M_out = V_out / get_a(gas_out)\n",
    "        elif n_iter < max_iter:\n",
    "            n_iter += 1\n",
    "        else:\n",
    "            M_out = 0\n",
    "            print(f'inlet finished, NOT converged, niter={n_iter}')\n",
    "            \n",
    "    return M_out, converged            "
   ]
  },
  {
   "cell_type": "code",
   "execution_count": null,
   "id": "73eda73e-bd15-4137-a08b-5d30cb3441e0",
   "metadata": {},
   "outputs": [],
   "source": []
  },
  {
   "cell_type": "code",
   "execution_count": null,
   "id": "781a5dc3-a718-43cf-82d0-42445faa6277",
   "metadata": {},
   "outputs": [],
   "source": [
    "#04 - engine ambient/operating conditions\n",
    "\n",
    "eng_op_con = {}\n",
    "eng_op_con['throttle_pos'] = 1.0 # 1 is full throttle; .5 is idle\n",
    "eng_op_con['mdot_guess'] = 20 # kg/s\n",
    "eng_op_con['alt'] = 35000 # ft\n",
    "eng_op_con['M_i'] = 0.8\n",
    "\n",
    "M_i = eng_op_con['M_i'] # indicated Mach number - aircraft\n",
    "V_i = ISA.M2Vt(eng_op_con['M_i'], eng_op_con['alt']) * ISA.kt2ms # true airspeed in kts\n",
    "p_amb = ISA.p(eng_op_con['alt']) # static\n",
    "T_amb = ISA.T(eng_op_con['alt']) # static"
   ]
  },
  {
   "cell_type": "code",
   "execution_count": null,
   "id": "a530c816-e78a-4e69-8d1d-f5e1949725ec",
   "metadata": {
    "tags": []
   },
   "outputs": [],
   "source": [
    "#05 - initial stations setup\n",
    "\n",
    "gas = {} # dictionary with Cantera Solution (gas) objects for each station\n",
    "M = {} # Mach number for each station\n",
    "\n",
    "st = [\"a\", 1, 2, 3, 4, 5, 8] # station numbers\n",
    "station_names = {st[0]:'ambient',\n",
    "                 st[1]:'inlet',\n",
    "                 st[2]:'inlet @ comp. face',\n",
    "                 st[3]:'after compressor',\n",
    "                 st[4]:'after combustor',\n",
    "                 st[5]:'after turbine',\n",
    "                 st[6]:'nozzle exit'}\n",
    "\n",
    "# see https://github.com/Cantera/cantera/blob/main/data/nDodecane_Reitz.yaml\n",
    "reaction_mechanism = 'nDodecane_Reitz.yaml'\n",
    "phase_name = 'nDodecane_IG' # IG = ideal gas, other option is RK = Redlich-Kwong\n",
    "\n",
    "comp_air = 'O2:0.209, N2:0.787, CO2:0.004' # composition of air\n",
    "comp_fuel = 'c12h26:1' # composition of fuel\n",
    "\n",
    "\n",
    "# initialize all stations with air, at ambient conditions\n",
    "for station in st:\n",
    "    gas[station] = (ct.Solution(reaction_mechanism, phase_name))\n",
    "    gas[station].X = comp_air\n",
    "    gas[station].TP = T_amb, p_amb\n",
    "        \n",
    "    M[station] = M_i"
   ]
  },
  {
   "cell_type": "code",
   "execution_count": null,
   "id": "73423744-8cb1-4031-8646-c46d9bd3674a",
   "metadata": {},
   "outputs": [],
   "source": [
    "#06 - from Station \"a\" to Station 1\n",
    "\n",
    "M_calc, conv = iterate_inlet(eng_op_con['mdot_guess'],\n",
    "                             eng_param['A1'],\n",
    "                             gas[st[0]],\n",
    "                             1, # isentropic thus efficiency=1\n",
    "                             M[st[0]],\n",
    "                             gas[st[1]])\n",
    "\n",
    "# we only assign the Mach number if we reached convergnece\n",
    "if conv: M[st[1]] = M_calc"
   ]
  },
  {
   "cell_type": "code",
   "execution_count": null,
   "id": "935be623-e1c8-4d3d-8e6e-7fbe56bbff44",
   "metadata": {},
   "outputs": [],
   "source": [
    "# create data set for plotting\n",
    "\n",
    "st_T = []\n",
    "st_p = []\n",
    "st_X = []\n",
    "\n",
    "# get T, p, X from each station that we already calculated\n",
    "for x in range(0, 2):\n",
    "    st_T.append(gas[st[x]].T)\n",
    "    st_p.append(gas[st[x]].P)\n",
    "    st_X.append(gas[st[x]].X)"
   ]
  },
  {
   "cell_type": "code",
   "execution_count": null,
   "id": "dbeaa551-fd40-459e-8001-e72139655c05",
   "metadata": {},
   "outputs": [],
   "source": [
    "print_stations(st[0:2], station_names, gas, M)\n",
    "\n",
    "myplot = plot_T_s(st_T, st_p, st_X, reaction_mechanism, phase_name)"
   ]
  },
  {
   "cell_type": "code",
   "execution_count": null,
   "id": "ddf8a079-6f50-41b0-8070-642af9323055",
   "metadata": {},
   "outputs": [],
   "source": [
    "#07 - from Station 1 to Station 2\n",
    "\n",
    "M_calc, conv = iterate_inlet(eng_op_con['mdot_guess'] ,\n",
    "                             eng_param['A2'],\n",
    "                             gas[st[1]],\n",
    "                             eng_perf['eta_i'],\n",
    "                             M[st[1]],\n",
    "                             gas[2])\n",
    "\n",
    "# we only assign the Mach number if we reached convergnece\n",
    "# and if we did, we now assume constant Mach throughout the machine\n",
    "if conv: \n",
    "    n_st = len(st) #get number of stations\n",
    "    current_st = st.index(2) #get index of current station\n",
    "    for i in range(current_st, n_st):\n",
    "        M[st[i]] = M_calc\n",
    "else:\n",
    "    print('ERROR: inlet did not converge')\n",
    "    ###break\n",
    "\n",
    "st_T.append(gas[st[2]].T)\n",
    "st_p.append(gas[st[2]].P)\n",
    "st_X.append(gas[st[2]].X)"
   ]
  },
  {
   "cell_type": "code",
   "execution_count": null,
   "id": "81919ade-eb12-4fe2-ad7a-70860365f4f6",
   "metadata": {},
   "outputs": [],
   "source": [
    "print_stations(st[0:3], station_names, gas, M)\n",
    "\n",
    "myplot = plot_T_s(st_T, st_p, st_X, reaction_mechanism, phase_name)"
   ]
  },
  {
   "cell_type": "code",
   "execution_count": null,
   "id": "b00eb203-94fb-4011-9d28-350f52b1b4c1",
   "metadata": {},
   "outputs": [],
   "source": []
  }
 ],
 "metadata": {
  "kernelspec": {
   "display_name": "Python 3 (ipykernel)",
   "language": "python",
   "name": "python3"
  },
  "language_info": {
   "codemirror_mode": {
    "name": "ipython",
    "version": 3
   },
   "file_extension": ".py",
   "mimetype": "text/x-python",
   "name": "python",
   "nbconvert_exporter": "python",
   "pygments_lexer": "ipython3",
   "version": "3.10.6"
  }
 },
 "nbformat": 4,
 "nbformat_minor": 5
}
