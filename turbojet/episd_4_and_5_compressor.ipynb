{
 "cells": [
  {
   "cell_type": "markdown",
   "id": "15890cef-ee74-4e07-9a6f-23b87954899f",
   "metadata": {},
   "source": [
    "This notebook is part of the youtube video \"Jet Engine Series\" from the Flight Test Engineering Channel: follow this [link](https://youtube.com/@flighttestengineering)\n",
    "\n",
    "Episode 1: Series Intro\n",
    "\n",
    "Episdoe 2: Inlet Thermodynamics\n",
    "\n",
    "Episode 3: Inlet Python Coding\n",
    "\n",
    "Episode 4: *Compressor Thermodynamics* - use this notebook"
   ]
  },
  {
   "cell_type": "markdown",
   "id": "9191ce65-de1a-478b-a4c0-bed8bc1fc29a",
   "metadata": {},
   "source": [
    "# A Small Recap\n",
    "\n",
    "Ideal Gas"
   ]
  },
  {
   "cell_type": "markdown",
   "id": "dd8312e6-d3d1-4645-8cee-f18f317968d6",
   "metadata": {
    "tags": []
   },
   "source": [
    "Isentropic Process\n",
    "\n",
    "* $pV^{\\gamma}=k$; $p=k\\rho^{\\gamma}$ -> $dp=\\gamma k \\rho^{\\gamma -1}d\\rho$\n",
    "\n",
    "Isentropic Compression\n",
    "\n",
    "* $\\frac{T_2}{T_1}=(\\frac{p_2}{p_1})^{\\frac{\\gamma-1}{\\gamma}}$  >>>or<<<   $\\frac{p_2}{p_1}=(\\frac{T_2}{T_1})^{\\frac{\\gamma}{\\gamma-1}}$\n"
   ]
  },
  {
   "cell_type": "markdown",
   "id": "0185437e-3717-4ce6-8b48-f42950b6f076",
   "metadata": {
    "tags": []
   },
   "source": [
    "Bernoulli / Compressible \n",
    "\n",
    "* $\\frac{p_0}{p} = (1+ \\frac{\\gamma-1}{2} M^2)^{\\frac{\\gamma}{\\gamma - 1}} = (1+ \\frac{V^2}{2 c_p T_s})^{\\frac{\\gamma}{\\gamma - 1}}$"
   ]
  },
  {
   "cell_type": "markdown",
   "id": "c496dc68-0948-4092-aa34-225c2557b722",
   "metadata": {
    "tags": []
   },
   "source": [
    "Compression Efficiency\n",
    "\n",
    "* $\\eta_c = \\frac{w_{c,s}}{w_c} = \\frac{h_{2}^\\prime-h_1}{h_2-h_1} = \\frac{c_p(T_{2}^\\prime-T_1)}{c_p(T_2-T_1)}$"
   ]
  },
  {
   "cell_type": "markdown",
   "id": "324bf1e0-0515-45a0-a521-991486268c1a",
   "metadata": {
    "tags": []
   },
   "source": [
    "![037](pictures/compression_efficiency.svg)\n"
   ]
  },
  {
   "cell_type": "markdown",
   "id": "d183e403-898f-4ffe-aee5-859cd63e6beb",
   "metadata": {
    "tags": []
   },
   "source": [
    "Some basic relationships\n",
    "\n",
    "$M=\\frac{V}{\\sqrt{\\gamma RT_{static}}}$\n",
    "\n",
    "$\\gamma R = c_p (\\gamma - 1)$"
   ]
  },
  {
   "cell_type": "markdown",
   "id": "3e4367fe-6556-458d-9936-73961ecaec12",
   "metadata": {
    "tags": []
   },
   "source": [
    "# Inlet Diffuser"
   ]
  },
  {
   "cell_type": "markdown",
   "id": "7d98affb-dba7-4b32-98e1-83dae7bc0034",
   "metadata": {
    "tags": []
   },
   "source": [
    "The conditions far away from the engine, at Station \"a\" (for ambient), are:\n",
    "\n",
    "$T_{a_{static}}$, $P_{a_{static}}$, and $M_a$\n",
    "\n",
    "If we now define *sub \"0\"* to mean \"stagnation\"...\n",
    "\n",
    "so $T_{01}$ is the stagnation pressure at station 1;\n",
    "\n",
    "   $T_{0a}$ is the stagnation pressure at station \"a\"\n",
    "\n",
    "and $T_{a}$ is the static pressure at station \"a\""
   ]
  },
  {
   "cell_type": "markdown",
   "id": "29d7fbaa-3cc4-4038-8949-8af3e2076412",
   "metadata": {
    "tags": []
   },
   "source": [
    "#### Isentropic flow up to duct inlet\n",
    "\n",
    "Let's assume there are no losses from Station \"a\" to Station 1.\n",
    "\n",
    "$P_{01} = P_{0a} = P_{a} (1 + \\frac{\\gamma - 1}{2}M_a^{2})^\\frac{\\gamma}{\\gamma -1} = P_{a} (1+ \\frac{V_{a}^2}{2 c_p T_a})^{\\frac{\\gamma}{\\gamma - 1}}$\n",
    "\n",
    "$T_{01} = T_{0a} = T_{a} (1 + \\frac{\\gamma - 1}{2}M_a^{2}) = T_{a}+ (\\frac{V_{a}^2}{2 c_p} )$"
   ]
  },
  {
   "cell_type": "markdown",
   "id": "313c19c1-0b9e-4080-a5bb-f085aed3618a",
   "metadata": {
    "tags": []
   },
   "source": [
    "#### Adiabatic Duct\n",
    "\n",
    "Inside the inlet duct, we have friction losses, but no heat transfer\n",
    "\n",
    "$T_{02}=T_{01}=T_{0a} $ -> stagnation temperatures are the same\n",
    "\n",
    "$=> T_{02}=T_{01}= T_{1} + \\frac{V_1^2}{2c_{p1}}$\n",
    "\n",
    "$T_{02} - T_{1} =  \\frac{V_1^2}{2c_{p1}} $\n",
    "\n",
    "$=> T_{1} + \\frac{V_1^2}{2c_{p1}} = T_{2} + \\frac{V_2^2}{2c_{p2}} $\n",
    "\n",
    "$T_{2} = T_{1} + \\frac{V_1^2}{2c_{p1}} - \\frac{V_2^2}{2c_{p2}}$"
   ]
  },
  {
   "cell_type": "markdown",
   "id": "793a6dce-c025-4525-aa54-5d2a44eee940",
   "metadata": {
    "tags": []
   },
   "source": [
    "#### if it was isentropic...\n",
    "\n",
    "And if we had isentropic compression, we could write:\n",
    "\n",
    "$\\frac{p_{02}}{p_{1}} = (\\frac{T_{02}^\\prime}{T_{1}})^{\\frac{\\gamma}{\\gamma -1}}$\n",
    "\n",
    "which can be re-written as:\n",
    "\n",
    "$\\frac{p_{02}}{p_{1}} = (1 +  \\frac{T_{02}^{'} - T_{1}}{T_{1}})^{\\frac{\\gamma}{\\gamma -1}}$\n",
    "\n"
   ]
  },
  {
   "cell_type": "markdown",
   "id": "9705a842-798d-491a-9fe7-9312c22a05f1",
   "metadata": {
    "tags": []
   },
   "source": [
    "#### considering the definition of inlet efficiency...\n",
    "\n",
    "\n",
    "\n",
    "$\\eta_i=\\frac{T_{02}^{'}-T_{1}}{T_{02}-T_{1}}$\n",
    "\n",
    "$T_{02}^{'}-T_{1}=\\eta_i(T_{02}-T_{1})$ \n",
    "\n",
    "$\\frac{p_{02}}{p_{1}} = (1 +  \\frac{\\eta_i(T_{02}-T_{1})}{T_{1}})^{\\frac{\\gamma}{\\gamma -1}}$\n",
    "\n",
    "But $T_{02} - T_{1} =  \\frac{V_1^2}{2c_{p1}} $\n",
    "\n",
    "\n",
    "$\\frac{p_{02}}{p_{1}} = (1 + \\frac{\\eta_i V_1^2}{2c_{p1}T_{1}})^{\\frac{\\gamma}{\\gamma -1}}$"
   ]
  },
  {
   "cell_type": "markdown",
   "id": "bf6ebf46-a135-4030-8259-ab6e19b524fd",
   "metadata": {
    "tags": []
   },
   "source": [
    "#### mass flow\n",
    "\n",
    "$\\dot{m}=\\rho V A$"
   ]
  },
  {
   "cell_type": "code",
   "execution_count": null,
   "id": "e3c7f25d-1b62-4256-9f94-1b985f68fd01",
   "metadata": {
    "tags": []
   },
   "outputs": [],
   "source": [
    "#01 - preamble, imports\n",
    "\n",
    "import numpy as np\n",
    "import matplotlib.pyplot as plt\n",
    "plt.style.use('dark_background')\n",
    "import cantera as ct\n",
    "import ISA_module as ISA\n",
    "\n",
    "from engine_helper_functions import *\n",
    "\n",
    "plt.rcParams['figure.figsize'] = [12, 7]"
   ]
  },
  {
   "cell_type": "code",
   "execution_count": null,
   "id": "934d81e5-5dd5-403f-aacd-937180b2508e",
   "metadata": {
    "tags": []
   },
   "outputs": [],
   "source": [
    "ct.__version__"
   ]
  },
  {
   "cell_type": "raw",
   "id": "6cda9dd3-bb37-49b7-9d5f-c68f34f86529",
   "metadata": {
    "tags": []
   },
   "source": []
  },
  {
   "cell_type": "code",
   "execution_count": null,
   "id": "01e804d4-e03f-4506-b52d-96cde3b1f538",
   "metadata": {
    "tags": []
   },
   "outputs": [],
   "source": [
    "#02 - engine parameters definitions\n",
    "\n",
    "eng_param = {} # engine physical parameters will be stored in this dictionary\n",
    "\n",
    "eng_perf = {} # engine performance parameters in this dictionary\n",
    "\n",
    "# engine parameters\n",
    "# inlet\n",
    "#   physical parameters\n",
    "eng_param['A1'] = 0.30 # m2 inlet area at station 1\n",
    "eng_param['A2'] = 0.32 # m2 inlet exit area at face of compressor\n",
    "#   performance parameters\n",
    "eng_perf['eta_i'] = 0.98 # this can be upgraded to vary with Mach and m_dot\n",
    "\n",
    "#--------------------------------------------------------------------------\n",
    "\n",
    "# compressor\n",
    "#   physical parameters\n",
    "eng_param['comp_n_stages'] = 10 # number of stages in compressor\n",
    "#   performance parameters\n",
    "eng_perf['CPR'] = 6.1  # overall compressor pressure rise\n",
    "eng_perf['eta_c'] = 0.80 # isentropic stage efficiency for compressor\n"
   ]
  },
  {
   "cell_type": "code",
   "execution_count": null,
   "id": "24457f62-1fdf-40a9-a425-68d2fd804c3b",
   "metadata": {
    "tags": []
   },
   "outputs": [],
   "source": [
    "#03 - inlet iterative function\n",
    "\n",
    "def iterate_inlet(mdot:float, \n",
    "                  A:float, \n",
    "                  gas_in:ct.Solution, \n",
    "                  eta_i:float, \n",
    "                  M_in:float, \n",
    "                  gas_out:ct.Solution)->(float, bool):\n",
    "    '''\n",
    "    This function iterates the gas velocity at inlet exit until convergence\n",
    "    \n",
    "    inputs\n",
    "    mdot : mass flow, in kg/s\n",
    "    A     : area, in m2\n",
    "    gas_in: Cantera solution object with gas at entrance of inlet\n",
    "    T_in  : stagnation temperature of gas at entrance of inlet, in K\n",
    "    p_in  : stagnation pressure of gas at entrance of inlet, in Pascals\n",
    "    eta_i : inlet efficiency\n",
    "    M_in  : Mach number for gas at entrance of inlet\n",
    "    gas_out: Cantera solution object with gas at exit of inlet\n",
    "    \n",
    "    returns\n",
    "    M_out : Mach number for gas at exit of inlet. Zero if no convergence reached\n",
    "    convergence: True if converged, False if not\n",
    "    indirect outputs\n",
    "    gas_out: Cantera solution containing updated gas properties\n",
    "    '''\n",
    "    # loop control\n",
    "    tol = 0.01 # tolerance to check for convergence\n",
    "    max_iter = 100 # maximum number of iterations\n",
    "    converged = False # keeps track of convergence\n",
    "    n_iter = 0 #iteration counter\n",
    "    \n",
    "    # calculated input gas properties\n",
    "    V_in = M_in * get_a(gas_in)\n",
    "    gamma_in = get_gamma(gas_in)\n",
    "    T_0in = get_T(gas_in.T, gamma_in, M_in)\n",
    "    p_0in = get_p(gas_in.P, gamma_in, M_in)\n",
    "\n",
    "    # initial guess\n",
    "    T_0out = T_0in\n",
    "    V_out_guess = mdot / (gas_in.density * A)\n",
    "    gamma_out = gamma_in\n",
    "    \n",
    "    \n",
    "    while not converged and n_iter <= max_iter:\n",
    "        \n",
    "        # calc properties using current guess\n",
    "        \n",
    "        T_out = gas_in.T + (V_in**2 / (2 * gas_in.cp) - V_out_guess**2 / (2 * gas_out.cp))\n",
    "        p_0out = gas_in.P * (1 + eta_i * V_in**2 / (2 * gas_in.cp * gas_in.T))**(gamma_in / (gamma_in - 1))\n",
    "        p_out = p_0out * (T_out / T_0out)**(gamma_out / (gamma_out - 1))\n",
    "              \n",
    "        # update gas to get new properties (especially density)\n",
    "        gas_out.TP = T_out, p_out\n",
    "        gamma_out = get_gamma(gas_out)\n",
    "        \n",
    "        # update velocity calculation with new gas properties\n",
    "        V_out = V_out_guess\n",
    "        V_out_guess = mdot / (gas_out.density * A)\n",
    "        \n",
    "        # check for convergnece\n",
    "        if abs(V_out - V_out_guess) < tol:\n",
    "            print(f'inlet finished, converged, niter={n_iter}')\n",
    "            converged = True\n",
    "            M_out = V_out / get_a(gas_out)\n",
    "        elif n_iter < max_iter:\n",
    "            n_iter += 1\n",
    "        else:\n",
    "            M_out = 0\n",
    "            print(f'inlet finished, NOT converged, niter={n_iter}')\n",
    "            \n",
    "    return M_out, converged            "
   ]
  },
  {
   "cell_type": "markdown",
   "id": "47911a91-a562-4ced-975e-266b02836430",
   "metadata": {
    "tags": []
   },
   "source": [
    "# COMPRESSOR"
   ]
  },
  {
   "cell_type": "markdown",
   "id": "151aef5a-4ea4-478c-b30f-6b33df4bf4d6",
   "metadata": {
    "tags": []
   },
   "source": [
    "## compressor efficiency...\n",
    "\n",
    "\n",
    "\n",
    "$\\eta_c=\\frac{T_{03}^{'}-T_{02}}{T_{03}-T_{02}}$\n",
    "\n",
    "$T_{03}-T_{02}=\\frac{1}{\\eta_c}(T_{03}^{'}-T_{02})=\\frac{T_{02}}{\\eta_c}(\\frac{T_{03}^{'}}{T_{02}}-1)=\\frac{T_{02}}{\\eta_c}[(\\frac{p_{03}}{p_{02}})^{\\frac{\\gamma-1}{\\gamma}}-1]$\n",
    "\n",
    "$T_{03}=T_{02}+\\frac{T_{02}}{\\eta_c}[(\\frac{p_{03}}{p_{02}})^{\\frac{\\gamma-1}{\\gamma}}-1]$\n"
   ]
  },
  {
   "cell_type": "markdown",
   "id": "eccfafce-26da-4029-b969-335b9ffd1d3c",
   "metadata": {},
   "source": [
    "Multi-stage compressors\n",
    "\n",
    "$(CR_{stage})^{n}=CPR$\n",
    "\n",
    "$CR_{stage}=CPR^{\\frac{1}{n}}$"
   ]
  },
  {
   "cell_type": "code",
   "execution_count": null,
   "id": "070a0882-7be9-4bd8-878f-2750a4ce7890",
   "metadata": {
    "tags": []
   },
   "outputs": [],
   "source": [
    "#08 - multi-stage compressor - \"constant\" temp rise\n",
    "\n",
    "def multi_stage_compressor(gas_in:ct.Solution, \n",
    "                          n_stages:float, \n",
    "                          CPR:float, \n",
    "                          eta_c:float, \n",
    "                          M_in:float,\n",
    "                          gas_out:ct.Solution):\n",
    "    '''\n",
    "    This function calculates the output properties of a multi-stage axial compressor\n",
    "    \n",
    "    inputs\n",
    "    gas_in    : Cantera solution object with gas at entrance of inlet\n",
    "    n_stages  : number of stages in axial compressor\n",
    "    CPR       : overall compression ratio\n",
    "    eta_c     : stage isentropic efficiency\n",
    "    M_in      : Mach number for gas at entrance of inlet\n",
    "    gas_out   : Cantera solution object with gas at exit of inlet\n",
    "    \n",
    "    returns\n",
    "    T_out, p_out : list with static temperatures, static pressures of each stage\n",
    "    convergence  : True if converged, False if not\n",
    "    compressor_work : specific work used to compress gas [in kJ/kg]\n",
    "    \n",
    "    indirect outputs\n",
    "    gas_out: Cantera solution containing updated gas properties\n",
    "    '''\n",
    "    \n",
    "    # calculated input gas properties\n",
    "    gamma_in = get_gamma(gas_in)\n",
    "    T_0in = get_T(gas_in.T, gamma_in, M_in) # stagnation\n",
    "    p_0in = get_p(gas_in.P, gamma_in, M_in) # stagnation\n",
    "    \n",
    "    # pressure ratio per stage\n",
    "    CR_stage = CPR**(1 / n_stages)\n",
    "    \n",
    "    \n",
    "    # gradually shift pressure towards the initial stages\n",
    "    stage_multiplier = np.ones(n_stages)\n",
    "    shift = 0.001 # overall shift amount, per iteration\n",
    "    shifter = np.ones(n_stages)\n",
    "    step_shift = shift / n_stages # shift step per stage\n",
    "    \n",
    "    center = int(n_stages / 2) # middle of vector - it does not matter if we are off by one (even length vector)\n",
    "    for i in range(center):\n",
    "        shifter[i] = 1 + (center - i) * step_shift # shift initial stages UP\n",
    "        shifter[n_stages - i - 1] = 1 - ((center - i) * step_shift) # shift later stages DOWN\n",
    "    \n",
    "    # pressure rise shift loop control\n",
    "    converged = False\n",
    "    n_iter = 0\n",
    "    max_iter = 5000\n",
    "    prev_delta_t = 1000 # start with high value to trigger condition\n",
    "    \n",
    "    # stage properties\n",
    "    stages_p_out = np.zeros(n_stages) # holds the press data for each stage\n",
    "    stages_T_out = np.zeros(n_stages) # holds the temp data for each stage\n",
    "    stage_gas = (ct.Solution(reaction_mechanism, phase_name)) # internal object to keep track of gas properties\n",
    "    stage_gas.X = comp_air\n",
    "    \n",
    "    # compressor output data\n",
    "    compressor_work = 0 # collector for specific work used to compress gas, for all stages, in kJ/kg\n",
    "\n",
    "    \n",
    "    # pressure rise shift loop\n",
    "    while not converged and n_iter <= max_iter:\n",
    "\n",
    "        stage_gas.TP = gas_in.T, gas_in.P\n",
    "        \n",
    "        # thermo stages loop\n",
    "        for st_counter in range(n_stages):\n",
    "\n",
    "            T_i = stage_gas.T # keep initial temperature for work calculation\n",
    "            \n",
    "            gamma = get_gamma(stage_gas)\n",
    "            p0 = get_p(stage_gas.P, gamma, M_in) * CR_stage * stage_multiplier[st_counter]\n",
    "            T0 = T_0in / eta_c *((p0 / p_0in)**((gamma - 1) / gamma) - 1) + T_0in\n",
    "\n",
    "            T = get_Ts(T0, gamma, M_in)\n",
    "            p = get_ps(p0, T, T0, gamma)\n",
    "            stage_gas.TP = T, p # do an update on TP, with previous gamma\n",
    "\n",
    "            gamma = get_gamma(stage_gas) # update gamma\n",
    "            T = get_Ts(T0, gamma, M_in)\n",
    "            p = get_ps(p0, T, T0, gamma)\n",
    "            stage_gas.TP = T, p # refine TP with updated gamma\n",
    "            \n",
    "            # store conditions for plotting later...\n",
    "            stages_p_out[st_counter] = p\n",
    "            stages_T_out[st_counter] = T\n",
    "            \n",
    "            # store stage work\n",
    "            compressor_work += stage_gas.cp * (T - T_i) # in kJ/kg\n",
    "\n",
    "            # update for next stage\n",
    "            p_0in = p0\n",
    "            T_0in = T0\n",
    "\n",
    "        # logic to account for different number of stages\n",
    "        if n_stages > 2: # typical multi-stage case\n",
    "            max_delta_t = np.diff(stages_T_out).max()\n",
    "        elif n_stages > 1: # special case : np.diff will drop one in vector length\n",
    "            max_delta_t = max(stages_T_out[1] - stages_T_out[0], stages_T_out[0] - gas_in.T)\n",
    "        else: # case for 1 stage\n",
    "            max_delta_t = T - gas_in.T\n",
    "        \n",
    "\n",
    "        # loop objective is to get minimum temperature difference between all stages\n",
    "        # by shifting pressure rise towards initial stages\n",
    "        if max_delta_t < prev_delta_t and n_iter < max_iter:\n",
    "\n",
    "            n_iter += 1\n",
    "            # clear previous data and reset inputs\n",
    "            T_0in = get_T(gas_in.T, gamma_in, M_in)\n",
    "            p_0in = get_p(gas_in.P, gamma_in, M_in)\n",
    "            compressor_work = 0 #zero out work absorbed by compressor\n",
    "            \n",
    "            # increase pressure shift towards initial stages\n",
    "            stage_multiplier = np.multiply(stage_multiplier, shifter)\n",
    "            prev_delta_t = max_delta_t\n",
    "        \n",
    "        elif n_iter >= max_iter:\n",
    "            print(f'compressor finished, NOT converged, niter={n_iter}, max delta T={max_delta_t:0.1f}')\n",
    "            n_iter += 1\n",
    "        else:\n",
    "            converged = True\n",
    "            print(f'compressor finished, converged, niter={n_iter}, max delta T={max_delta_t:0.1f}')\n",
    "        \n",
    "        \n",
    "    # update gas_out to pass properties back\n",
    "    gas_out.TP = T, p\n",
    "\n",
    "\n",
    "    return list(zip(stages_T_out, stages_p_out)), converged, compressor_work"
   ]
  },
  {
   "cell_type": "code",
   "execution_count": null,
   "id": "2e0556fd-0a73-442e-be59-2adb8e8447b7",
   "metadata": {
    "tags": []
   },
   "outputs": [],
   "source": [
    "#04 - engine ambient/operating conditions\n",
    "\n",
    "eng_op_con = {}\n",
    "eng_op_con['throttle_pos'] = 1.0 # 1 is full throttle; .5 is idle\n",
    "eng_op_con['mdot_guess'] = 20 # kg/s\n",
    "eng_op_con['alt'] = 35000 # ft\n",
    "eng_op_con['M_i'] = 0.8\n",
    "\n",
    "M_i = eng_op_con['M_i'] # indicated Mach number - aircraft\n",
    "V_i = ISA.M2Vt(eng_op_con['M_i'], eng_op_con['alt']) * ISA.kt2ms # true airspeed in kts\n",
    "p_amb = ISA.p(eng_op_con['alt']) # static\n",
    "T_amb = ISA.T(eng_op_con['alt']) # static"
   ]
  },
  {
   "cell_type": "code",
   "execution_count": null,
   "id": "f08e5cb4-0047-45cd-a705-6d3f2f741c08",
   "metadata": {
    "tags": []
   },
   "outputs": [],
   "source": [
    "#05 - initial stations setup\n",
    "\n",
    "gas = {} # dictionary with Cantera Solution (gas) objects for each station\n",
    "M = {} # Mach number for each station\n",
    "\n",
    "st = [\"a\", 1, 2, 3, 4, 5, 8] # station numbers\n",
    "station_names = {st[0]:'ambient',\n",
    "                 st[1]:'inlet',\n",
    "                 st[2]:'inlet @ comp. face',\n",
    "                 st[3]:'after compressor',\n",
    "                 st[4]:'after combustor',\n",
    "                 st[5]:'after turbine',\n",
    "                 st[6]:'nozzle exit'}\n",
    "\n",
    "# see https://github.com/Cantera/cantera/blob/main/data/nDodecane_Reitz.yaml\n",
    "reaction_mechanism = 'nDodecane_Reitz.yaml'\n",
    "phase_name = 'nDodecane_IG' # IG = ideal gas, other option is RK = Redlich-Kwong\n",
    "\n",
    "comp_air = 'O2:0.209, N2:0.787, CO2:0.004' # composition of air\n",
    "comp_fuel = 'c12h26:1' # composition of fuel\n",
    "\n",
    "\n",
    "# initialize all stations with air, at ambient conditions\n",
    "for station in st:\n",
    "    gas[station] = (ct.Solution(reaction_mechanism, phase_name))\n",
    "    gas[station].X = comp_air\n",
    "    gas[station].TP = T_amb, p_amb\n",
    "        \n",
    "    M[station] = M_i"
   ]
  },
  {
   "cell_type": "code",
   "execution_count": null,
   "id": "76be00e2-8379-4f0b-ba44-4f69ed63d426",
   "metadata": {
    "tags": []
   },
   "outputs": [],
   "source": [
    "#06 - from Station \"a\" to Station 1\n",
    "\n",
    "M_calc, conv = iterate_inlet(eng_op_con['mdot_guess'],\n",
    "                             eng_param['A1'],\n",
    "                             gas[st[0]],\n",
    "                             1, # isentropic thus efficiency=1\n",
    "                             M[st[0]],\n",
    "                             gas[st[1]])\n",
    "\n",
    "# we only assign the Mach number if we reached convergnece\n",
    "if conv: M[st[1]] = M_calc"
   ]
  },
  {
   "cell_type": "code",
   "execution_count": null,
   "id": "0fa27afd-d531-41e7-9a95-e160f85ebb97",
   "metadata": {
    "tags": []
   },
   "outputs": [],
   "source": [
    "# create data set for plotting\n",
    "\n",
    "st_T = []\n",
    "st_p = []\n",
    "st_X = []\n",
    "\n",
    "# get T, p, X from each station that we already calculated\n",
    "for x in range(0, 2):\n",
    "    st_T.append(gas[st[x]].T)\n",
    "    st_p.append(gas[st[x]].P)\n",
    "    st_X.append(gas[st[x]].X)"
   ]
  },
  {
   "cell_type": "code",
   "execution_count": null,
   "id": "e818649c-a955-4998-a0c2-6e8f3e6fb064",
   "metadata": {
    "tags": []
   },
   "outputs": [],
   "source": [
    "print_stations(st[0:2], station_names, gas, M)\n",
    "\n",
    "myplot = plot_T_s(st_T, st_p, st_X, reaction_mechanism, phase_name)"
   ]
  },
  {
   "cell_type": "code",
   "execution_count": null,
   "id": "09541c6c-3b9c-4894-a3f3-d55cf2417fdf",
   "metadata": {},
   "outputs": [],
   "source": [
    "#07 - from Station 1 to Station 2\n",
    "\n",
    "M_calc, conv = iterate_inlet(eng_op_con['mdot_guess'] ,\n",
    "                             eng_param['A2'],\n",
    "                             gas[st[1]],\n",
    "                             eng_perf['eta_i'],\n",
    "                             M[st[1]],\n",
    "                             gas[2])\n",
    "\n",
    "# we only assign the Mach number if we reached convergnece\n",
    "# and if we did, we now assume constant Mach throughout the machine\n",
    "if conv: \n",
    "    n_st = len(st) #get number of stations\n",
    "    current_st = st.index(2) #get index of current station\n",
    "    for i in range(current_st, n_st):\n",
    "        M[st[i]] = M_calc\n",
    "else:\n",
    "    print('ERROR: inlet did not converge')\n",
    "    ###break\n",
    "\n",
    "st_T.append(gas[st[2]].T)\n",
    "st_p.append(gas[st[2]].P)\n",
    "st_X.append(gas[st[2]].X)"
   ]
  },
  {
   "cell_type": "code",
   "execution_count": null,
   "id": "a9e5c7a1-c29d-4a26-a1ec-0d05828daf97",
   "metadata": {},
   "outputs": [],
   "source": [
    "print_stations(st[0:3], station_names, gas, M)\n",
    "\n",
    "myplot = plot_T_s(st_T, st_p, st_X, reaction_mechanism, phase_name)"
   ]
  },
  {
   "cell_type": "code",
   "execution_count": null,
   "id": "d3b63edd-fdfb-448b-b5b5-1456a15b6c31",
   "metadata": {
    "tags": []
   },
   "outputs": [],
   "source": [
    "#09 - calculate compressor exit station\n",
    "\n",
    "st_out, conv, compressor_work = multi_stage_compressor(gas[2], \n",
    "                                eng_param['comp_n_stages'], \n",
    "                                eng_perf['CPR'], \n",
    "                                eng_perf['eta_c'], \n",
    "                                M[st[2]], \n",
    "                                gas[st[3]])\n",
    "\n",
    "\n",
    "\n",
    "# add T, p, X from compressor stages\n",
    "for x in st_out:\n",
    "    st_T.append(x[0])\n",
    "    st_p.append(x[1])\n",
    "    st_X.append(st_X[2]) # we just add a fixed value here because the composition in the compressor is not changing\n"
   ]
  },
  {
   "cell_type": "code",
   "execution_count": null,
   "id": "444d5173-4a2a-4ca2-b00f-b5817b0b401f",
   "metadata": {
    "tags": []
   },
   "outputs": [],
   "source": [
    "print_stations(st[0:4], station_names, gas, M)\n",
    "\n",
    "myplot = plot_T_s(st_T, st_p, st_X, reaction_mechanism, phase_name)"
   ]
  },
  {
   "cell_type": "code",
   "execution_count": null,
   "id": "10601a66-00d9-468a-8a75-b71be9d8f8bd",
   "metadata": {
    "tags": []
   },
   "outputs": [],
   "source": []
  },
  {
   "cell_type": "code",
   "execution_count": null,
   "id": "7675f630-3675-4b00-a2bc-8bf44443c1fc",
   "metadata": {},
   "outputs": [],
   "source": [
    "# pressure ratio per stage\n",
    "n_stages = 10\n",
    "CPR = 6.1\n",
    "CR_stage = CPR**(1 / n_stages)\n",
    "\n",
    "\n",
    "# gradually shift pressure towards the initial stages\n",
    "stage_multiplier = np.ones(n_stages)\n",
    "shift = 0.001 # overall shift amount, per iteration\n",
    "shifter = np.ones(n_stages)\n",
    "step_shift = shift / n_stages # shift step per stage\n",
    "\n",
    "center = int(n_stages / 2) # middle of vector - it does not matter if we are off by one (even length vector)\n",
    "for i in range(center):\n",
    "    shifter[i] = 1 + (center - i) * step_shift # shift initial stages UP\n",
    "    shifter[n_stages - i - 1] = 1 - ((center - i) * step_shift) # shift later stages DOWN\n"
   ]
  },
  {
   "cell_type": "code",
   "execution_count": null,
   "id": "ac06e59b-063c-4c40-872f-0ab0aadc9547",
   "metadata": {},
   "outputs": [],
   "source": [
    "print(shifter)"
   ]
  },
  {
   "cell_type": "code",
   "execution_count": null,
   "id": "3248d7a9-21db-4b71-87fd-940ac30d0156",
   "metadata": {},
   "outputs": [],
   "source": [
    "f_shifter = np.ones((shifter.shape[0], 101))"
   ]
  },
  {
   "cell_type": "code",
   "execution_count": null,
   "id": "15d5c78e-29c2-4356-a11e-78932e35b4e8",
   "metadata": {},
   "outputs": [],
   "source": [
    "for i in range(1,101):\n",
    "    f_shifter[:,i] = f_shifter[:,i-1]*shifter"
   ]
  },
  {
   "cell_type": "code",
   "execution_count": null,
   "id": "80a3e758-e979-40b4-b3b9-3bb4a9ca991d",
   "metadata": {},
   "outputs": [],
   "source": [
    "f_shifter[:,1]"
   ]
  },
  {
   "cell_type": "code",
   "execution_count": null,
   "id": "982d7a6b-71a7-49b5-8a92-59f92c54dafb",
   "metadata": {},
   "outputs": [],
   "source": [
    "for i in range(0,101,10):\n",
    "    plt.plot(f_shifter[:,i], label=i)\n",
    "    \n",
    "plt.legend();\n",
    "plt.show;"
   ]
  },
  {
   "cell_type": "code",
   "execution_count": null,
   "id": "37d796af-7703-4133-b3ff-d4ea06b6219b",
   "metadata": {},
   "outputs": [],
   "source": []
  }
 ],
 "metadata": {
  "kernelspec": {
   "display_name": "Python 3 (ipykernel)",
   "language": "python",
   "name": "python3"
  },
  "language_info": {
   "codemirror_mode": {
    "name": "ipython",
    "version": 3
   },
   "file_extension": ".py",
   "mimetype": "text/x-python",
   "name": "python",
   "nbconvert_exporter": "python",
   "pygments_lexer": "ipython3",
   "version": "3.10.6"
  }
 },
 "nbformat": 4,
 "nbformat_minor": 5
}
