{
 "cells": [
  {
   "cell_type": "code",
   "execution_count": null,
   "id": "ee2b8081-f06f-4ec3-a42a-062e638e0067",
   "metadata": {},
   "outputs": [],
   "source": [
    "# standard imports\n",
    "import pandas as pd\n",
    "import numpy as np\n",
    "import matplotlib\n",
    "import matplotlib.pyplot as plt\n",
    "\n",
    "plt.style.use('dark_background')\n",
    "plt.rcParams['figure.figsize'] = [12, 7]"
   ]
  },
  {
   "cell_type": "markdown",
   "id": "4f19ad74-31a6-48a5-9ef9-073e9a43d261",
   "metadata": {},
   "source": [
    "Let's read the data in and see what we got!"
   ]
  },
  {
   "cell_type": "code",
   "execution_count": null,
   "id": "0ab30c76-6c34-4c2d-9a77-3bb02bdde274",
   "metadata": {},
   "outputs": [],
   "source": [
    "# read CF34 deck into a dataframe\n",
    "df_CF34 = pd.read_csv(\"CF34_deck_v2.csv\", header=0)"
   ]
  },
  {
   "cell_type": "markdown",
   "id": "23612d1e-bd39-4d80-9804-1887e225317f",
   "metadata": {},
   "source": [
    "Select a parameter for right hand plot:"
   ]
  },
  {
   "cell_type": "code",
   "execution_count": null,
   "id": "d4cef74b-e459-4251-8d2d-103479b19d4c",
   "metadata": {},
   "outputs": [],
   "source": [
    "# simple plotting function to facilitate many plots!\n",
    "def quick_plot(Machs, alt_bracket, PC_bracket, rh_plot_parameter, df):\n",
    "    \n",
    "    fig, (ax1, ax2) = plt.subplots(1, 2)\n",
    "    fig.suptitle('CF34-10 Deck')\n",
    "    \n",
    "    for Mach in Machs:\n",
    "        #print(Mach)\n",
    "        Mach_bracket = [Mach-0.01, Mach+0.01]\n",
    "    \n",
    "        # filter dataframe:\n",
    "        filtered_df = df[(df.alt>=alt_bracket[0]) & (df.alt<=alt_bracket[1]) & \\\n",
    "                         (df.MN>=Mach_bracket[0]) & (df.MN<=Mach_bracket[1]) & \\\n",
    "                         (df.PC>=PC_bracket[0]) & (df.PC<=PC_bracket[1])]\n",
    "        \n",
    "        x1 = filtered_df['alt'].to_numpy()\n",
    "        y1 = filtered_df['Fn'].to_numpy()\n",
    "        x2 = x1\n",
    "        y2 = filtered_df[rh_plot_parameter].to_numpy()\n",
    "        \n",
    "        \n",
    "        ax1.plot(x1, y1)\n",
    "        ax2.plot(x2, y2, label=f'M={Mach:0.1f}')\n",
    "    \n",
    "    \n",
    "    ax1.set_title('Thrust')\n",
    "    ax1.set(xlabel='Altitude', ylabel='T [lbf]')\n",
    "    ax1.grid(alpha=0.2)\n",
    "    \n",
    "    \n",
    "    ax2.set_title(rh_plot_parameter)\n",
    "    ax2.set(xlabel='Altitude', ylabel=rh_plot_parameter)\n",
    "    ax2.grid(alpha=0.2)\n",
    "    ax2.legend(title='Mach:', loc='lower right')\n",
    "    fig.show()"
   ]
  },
  {
   "cell_type": "code",
   "execution_count": null,
   "id": "a63e1a99-8288-43d9-bfe1-537705c05f51",
   "metadata": {},
   "outputs": [],
   "source": [
    "alt_bracket = [0, 42000] #ft\n",
    "PC_bracket = [1.0, 1.0] # % power\n",
    "Machs = np.arange(0, 0.9, 0.1)\n",
    "RH_graph = 'Fg'\n",
    "quick_plot(Machs, alt_bracket, PC_bracket, RH_graph, df_CF34)"
   ]
  },
  {
   "cell_type": "markdown",
   "id": "fd413395-cbba-4eb3-b749-80949a398016",
   "metadata": {},
   "source": [
    "Deck Evaluation\n",
    "\n",
    "We can clearly see that there is something going on.\n",
    "\n",
    "The bumps in thrust are not expected and the reason needs to be investigated. \n",
    "\n",
    "We can try to find where this comes from, where it originates..."
   ]
  },
  {
   "cell_type": "code",
   "execution_count": null,
   "id": "020ae44e-031e-4d2e-89d2-7170a8197c90",
   "metadata": {},
   "outputs": [],
   "source": [
    "# plot Mach number...\n",
    "RH_graph = 'MN'\n",
    "quick_plot(Machs, alt_bracket, PC_bracket, RH_graph, df_CF34)"
   ]
  },
  {
   "cell_type": "markdown",
   "id": "2d17a464-6b1b-4ce1-baa6-9dd0bb5f2e79",
   "metadata": {},
   "source": [
    "Finer data\n",
    "To investigate the origin for this, the best way is to plot each of the parameters we captured in our dataframe/deck.\n",
    "\n",
    "But we have a slight problem: our deck has data that at lower altitude where Mach number is not constant. We can see this on the wavy lines of the Mach plot above.\n",
    "\n",
    "My first thought was to re-run the deck focusing on finding the \"problem\" altitude, but with much higher resolution.\n",
    "\n",
    "Zoomed in flight envelope: **Mach = 0.75, Altitudes = 1000 to 35000ft every 250ft and PC=1.0 fixed**\n",
    "\n",
    "I reran pyCycle for the CF34 deck and also for the original high bypass turbofan stock pyCycle example"
   ]
  },
  {
   "cell_type": "code",
   "execution_count": null,
   "id": "4231fff3-f56e-4e3f-8ee9-6a96d747d756",
   "metadata": {},
   "outputs": [],
   "source": [
    "# read dataframes that contain only throttle at 1.0 (max)\n",
    "# and high resolution data\n",
    "\n",
    "# CF34 high res specific data\n",
    "df_CF34_19k = pd.read_csv(\"CF34_deck_19k.csv\", header=0)\n",
    "\n",
    "# original pyCycle HBTF example data, high resolution\n",
    "df_pyCycle_HBTF = pd.read_csv(\"pycycle_HBTF_deck_19k.csv\", header=0)"
   ]
  },
  {
   "cell_type": "code",
   "execution_count": null,
   "id": "98dd1fee-a8c5-493e-9c8b-40d181a08cc4",
   "metadata": {},
   "outputs": [],
   "source": [
    "# define altitude and Mach brackets to filter data for plotting\n",
    "\n",
    "alt_brackets = [[2000, 40000], [17500, 20500]] # two brackets, first for complete graph, second for zoomed-in\n",
    "Mach_bracket = [0.7, 0.8]"
   ]
  },
  {
   "cell_type": "code",
   "execution_count": null,
   "id": "c34fa646-7dd2-4388-ba91-8ed9ca1a26db",
   "metadata": {},
   "outputs": [],
   "source": [
    "# filter data from each of our dataframes\n",
    "dataframes = [df_CF34_19k, df_pyCycle_HBTF]\n",
    "altitudes = []\n",
    "thrust = []\n",
    "for df in dataframes:\n",
    "    for alt_bracket in alt_brackets:\n",
    "        mydf = df[(df.alt>alt_bracket[0]) & (df.alt<alt_bracket[1]) & \\\n",
    "                 (df.MN>Mach_bracket[0]) & (df.MN<Mach_bracket[1])]\n",
    "        thrust.append(mydf['Fn'].to_numpy())\n",
    "        altitudes.append(mydf['alt'].to_numpy())"
   ]
  },
  {
   "cell_type": "code",
   "execution_count": null,
   "id": "a6bada88-015a-4549-a7b6-58072d9c722a",
   "metadata": {},
   "outputs": [],
   "source": [
    "# plot the data for both Decks\n",
    "\n",
    "fig, (ax1, ax2) = plt.subplots(1, 2)\n",
    "fig.suptitle('100% Throttle')\n",
    "\n",
    "ax1.plot(altitudes[0], thrust[0])\n",
    "ax1.plot(altitudes[2], thrust[2])\n",
    "ax2.plot(altitudes[1], thrust[1], label='CF34')\n",
    "ax2.plot(altitudes[3], thrust[3], label='pyCycle HBTF')\n",
    "\n",
    "ax1.set_title('Thrust')\n",
    "ax1.set(xlabel='Altitude', ylabel='T [lbf]')\n",
    "ax1.grid(alpha=0.2)\n",
    "\n",
    "\n",
    "ax2.set_title('Zoomed')\n",
    "ax2.set(xlabel='Altitude', ylabel='T [lbf]')\n",
    "ax2.grid(alpha=0.2)\n",
    "ax2.legend(title='Deck:', loc='lower right')\n",
    "fig.show()"
   ]
  },
  {
   "cell_type": "markdown",
   "id": "2b1c18bd-2070-4aec-8ff1-5756e0bf8a7d",
   "metadata": {
    "jupyter": {
     "source_hidden": true
    }
   },
   "source": [
    "Anomaly at 19000ft\n",
    "Now we can clearly see tha the problem lies in the 19000ft data.\n",
    "\n",
    "To investigate this further we could plot all the parameters we have available in our deck.\n",
    "\n",
    "Two paths here:\n",
    "1. run pyCycle again with constant Mach numbers\n",
    "2. plot interpolated data\n",
    "\n",
    "We're better off interpolating our data. It will be faster (that is what we were going to do anyways!)\n",
    "\n",
    "Let's develop our LUT routine here, we can later transfer it to its own file"
   ]
  },
  {
   "cell_type": "markdown",
   "id": "09889652-9064-49fd-9e55-9685ca0c7b60",
   "metadata": {},
   "source": [
    "# interpolation"
   ]
  },
  {
   "cell_type": "code",
   "execution_count": null,
   "id": "c560c40c-9e22-4014-8400-fc041ad9fbfd",
   "metadata": {},
   "outputs": [],
   "source": [
    "def get_bracket(target:float, val_list:list)->float:\n",
    "    '''\n",
    "    given a target value, find neighbouring lower and higher\n",
    "    values from a list. Ex: target = 5, list = [1,2,3,4,5,6,7]\n",
    "    returns low_val=4, high_val=6\n",
    "    note: the val_list maybe unordered.\n",
    "    inputs:\n",
    "        target: value\n",
    "        val_list: list of values (maybe out-of-order)\n",
    "    outputs:\n",
    "        lower value, higher value\n",
    "    '''\n",
    "    \n",
    "    highs = []\n",
    "    lows = []\n",
    "    \n",
    "    for x in val_list:\n",
    "        if x >= target:\n",
    "            highs.append(x)\n",
    "        else:\n",
    "            lows.append(x)\n",
    "    \n",
    "    if highs: # if this list is not empty, we get the min\n",
    "        high_val = min(highs)\n",
    "    else: #otherwise it means we are on the edge.\n",
    "        high_val = max(val_list)\n",
    "    \n",
    "    if lows: # same idea\n",
    "        low_val = max(lows)\n",
    "    else:\n",
    "        low_val = min(val_list)\n",
    "    \n",
    "    return low_val, high_val\n"
   ]
  },
  {
   "cell_type": "code",
   "execution_count": null,
   "id": "bc3f603c-e815-4932-8047-96a2e330ac27",
   "metadata": {},
   "outputs": [],
   "source": [
    "def linear_interp(x:float, x2:float, x1:float, y2:float, y1:float)->float:\n",
    "    '''\n",
    "    simplest form of linear interpolation between 2 data points\n",
    "    inputs. NOTE INPUT VARIABLES POSITIONS!\n",
    "        x: value to be interpolated at\n",
    "        x2, X1: x-coordinates of first and second data points\n",
    "        y1, y2: y-coordinates of first and second data points\n",
    "    returns\n",
    "        interpolated value\n",
    "    '''\n",
    "    m = (y2 - y1) / (x2 - x1)\n",
    "    x0 = y1 - m * x1\n",
    "    \n",
    "    return m * x + x0"
   ]
  },
  {
   "cell_type": "code",
   "execution_count": null,
   "id": "e513064c-111b-4226-97a1-ac927354d52e",
   "metadata": {},
   "outputs": [],
   "source": [
    "def adjust_limits(val:float, val_list:list)->float:\n",
    "    '''\n",
    "    This function is used to adjust the interpolation limits\n",
    "    Given a value and a list (ordered)\n",
    "    If values out-of-range, set 2 closest values\n",
    "    this allows for linear interpolation (capture the slope at the ends of table)\n",
    "    '''\n",
    "    if abs(val - val_list[0]) > abs(val - val_list[-1]): # we are at the high end\n",
    "        # get 2 highest values\n",
    "        high_val = val_list[-1]\n",
    "        low_val = val_list[-2]\n",
    "    else: # we are at the low end\n",
    "        # get 2 lowest values\n",
    "        high_val = val_list[1]\n",
    "        low_val = val_list[0]\n",
    "        \n",
    "    return low_val, high_val"
   ]
  },
  {
   "cell_type": "code",
   "execution_count": null,
   "id": "7bac77c1-f601-44d2-828d-45ad6061e970",
   "metadata": {},
   "outputs": [],
   "source": [
    "def interp_altMNPC(Hp:float, MN:float, PC:float, df:pd.DataFrame)->dict:\n",
    "    '''\n",
    "    This function will take a pandas dataframe from our Deck and return a linearly interpolated\n",
    "    dictionary for each \"key\" in the dataframe.\n",
    "    \n",
    "    inputs\n",
    "        Hp: altitude (in ft)\n",
    "        MN: Mach number\n",
    "        PC: power setting (float between 1 and 0)\n",
    "    retunrs\n",
    "        res: dictionary with interpolated values for each key in the dataframe\n",
    "    '''\n",
    "    # let's make a list of altitudes and Mach numbers we have in the deck data so that we can know\n",
    "    # where we can interpolate\n",
    "\n",
    "    # first create a list of the unique altitudes\n",
    "    # if there are duplicate altitudes, the first occurence will be chosen\n",
    "    alts = df['alt'].unique()\n",
    "\n",
    "    # then, for each altitude, create a list of MNs... let's create a dictionary\n",
    "    alt_MN = {}\n",
    "    for alt in alts:\n",
    "        alt_MN[alt] = df[df['alt'] == alt]['MN'].unique().tolist()\n",
    "\n",
    "    # likewise, a list of PCs\n",
    "    # here we check at the first altitude and Mach=0 only. Sufficient.\n",
    "    PCs = df[(df['alt'] == df['alt'][0]) & (df['MN'] == df['MN'][0])]['PC'].unique().tolist()\n",
    "\n",
    "    # capture the column names in a list to make our life easier when we are dealing with numpy arrays\n",
    "    col_names = df.columns.to_list()\n",
    "        \n",
    "        \n",
    "    ###############################\n",
    "    #   DEFINE THE BRACKETS        #\n",
    "    ###############################\n",
    "    # the idea here is to find the data to interpolate from\n",
    "    # it is all in the database, we just need to filter it.\n",
    "    # we will find the altitude bracket\n",
    "    # then the Mach bracket\n",
    "    # and finally the PC bracket\n",
    "\n",
    "    # this dictionary will hold the altitude and Mach barckets\n",
    "    pt_bracket = {'low': {'alt':0, 'M_low':0, 'M_high':0}, 'high': {'alt':0, 'M_low':0, 'M_high':0}}  # initialize to zero\n",
    "    \n",
    "    pt_bracket['low']['alt'], pt_bracket['high']['alt'] = get_bracket(Hp, alt_MN.keys()) # populate altitudes\n",
    "    if pt_bracket['low']['alt'] == pt_bracket['high']['alt']: # check if we are out-of-range\n",
    "        # dump keys into list\n",
    "        alt_list = alt_MN.keys() # remember each key is an altitude\n",
    "        # sort it\n",
    "        alt_list = sorted(alt_list)\n",
    "        # adjust the low and high values to the 2 nearest points\n",
    "        pt_bracket['low']['alt'], pt_bracket['high']['alt'] = adjust_limits(Hp, alt_list)\n",
    "\n",
    "\n",
    "    # now, Mach\n",
    "    # we will have 'low altitude' x 'M_low'\n",
    "    #              'low altitude' x 'M_high'\n",
    "    #              'high altitude' x 'M_low'\n",
    "    #              'high altitude' x 'M_high'\n",
    "    for lh in ['low', 'high']:\n",
    "        pt_bracket[lh]['M_low'], pt_bracket[lh]['M_high'] = get_bracket(MN, alt_MN[pt_bracket[lh]['alt']]) # populate MNs for each alt\n",
    "\n",
    "        if pt_bracket[lh]['M_low'] == pt_bracket[lh]['M_high']: # check if we are out-of-range\n",
    "        # dump keys into list\n",
    "            MN_list = []\n",
    "            for MN_for_alt in alt_MN[pt_bracket[lh]['alt']]: # remember each key is an altitude\n",
    "                MN_list.append(MN_for_alt)\n",
    "            # sort it\n",
    "            MN_list = sorted(MN_list)\n",
    "            pt_bracket[lh]['M_low'], pt_bracket[lh]['M_high'] = adjust_limits(MN, MN_list)\n",
    "\n",
    "\n",
    "    # finally, the PCs\n",
    "    PC_low, PC_high = get_bracket(PC, PCs)\n",
    "    if PC_low == PC_high: # check if we are out-of-range\n",
    "        PC_low, PC_high = adjust_limits(PC, sorted(PCs))\n",
    "    ############################### \n",
    "\n",
    "\n",
    "    ###############################\n",
    "    #   INTERPOLATE               #\n",
    "    ###############################\n",
    "\n",
    "    \n",
    "    interp_pts = [] # temporary placeholder for interpolation points converted to numpy from dataframe\n",
    "    # now we dump our data to numpy arrays to facilitate the interpolation math\n",
    "    # at this point, we are still carrying all PCs\n",
    "    if pt_bracket['low']['alt'] != pt_bracket['high']['alt']:\n",
    "        interp_pts.append(df.query(f\"alt == {pt_bracket['high']['alt']} and (MN == {pt_bracket['high']['M_high']})\").to_numpy())\n",
    "        interp_pts.append(df.query(f\"alt == {pt_bracket['high']['alt']} and (MN == {pt_bracket['high']['M_low']})\").to_numpy())\n",
    "        interp_pts.append(df.query(f\"alt == {pt_bracket['low']['alt']} and (MN == {pt_bracket['low']['M_high']})\").to_numpy())\n",
    "        interp_pts.append(df.query(f\"alt == {pt_bracket['low']['alt']} and (MN == {pt_bracket['low']['M_low']})\").to_numpy())\n",
    "    else:\n",
    "        print('error finding brackets!')\n",
    "    \n",
    "    #interpolation - linear classic\n",
    "    temp_pts = [] # temporary placeholder for intermmedeate interpolation points\n",
    "\n",
    "    # first, interpolate PCs\n",
    "    x2 = PC_high\n",
    "    x1 = PC_low\n",
    "    for i in range(4):\n",
    "        y2 = interp_pts[i][np.where(interp_pts[i][:,col_names.index('PC')] == x2)]\n",
    "        y1 = interp_pts[i][np.where(interp_pts[i][:,col_names.index('PC')] == x1)]\n",
    "        temp_pts.append(linear_interp(PC, x2, x1, y2, y1))\n",
    "\n",
    "    # then, interpolate Mach number\n",
    "    temp_pts2 = []\n",
    "\n",
    "    for idx, i in enumerate(['high', 'low']):\n",
    "        x2 = pt_bracket[i]['M_high']\n",
    "        x1= pt_bracket[i]['M_low']\n",
    "        y2 = temp_pts[(2*idx)] #0, 2\n",
    "        y1 = temp_pts[(2*idx)+1] #1, 3\n",
    "        temp_pts2.append(linear_interp(MN, x2, x1, y2, y1))\n",
    "\n",
    "    # last, interpolate altitudes\n",
    "    x2 = pt_bracket['high']['alt']\n",
    "    x1= pt_bracket['low']['alt']\n",
    "    y2 = temp_pts2[0]\n",
    "    y1 = temp_pts2[1]\n",
    "    interp_data = linear_interp(Hp, x2, x1, y2, y1)\n",
    "\n",
    "    # now, we package our output in a dictionary:\n",
    "    res = {}\n",
    "    for idx, col in enumerate(col_names):\n",
    "        res[col] = interp_data[0][idx]\n",
    "        \n",
    "    return res"
   ]
  },
  {
   "cell_type": "code",
   "execution_count": null,
   "id": "663fd84f-45ca-44b9-976d-0113a02d6582",
   "metadata": {},
   "outputs": [],
   "source": [
    "# quick check\n",
    "MN = 0.3\n",
    "alt = 18000\n",
    "PC = 1.0\n",
    "res = interp_altMNPC(alt, MN, PC, df_CF34)\n",
    "print(f'MN={MN}')\n",
    "print(f'alt={alt}')\n",
    "print(f'PC={PC}')\n",
    "print(res['Fn'])"
   ]
  },
  {
   "cell_type": "markdown",
   "id": "e3bcc095-73ee-4987-b016-3d499d0fa55b",
   "metadata": {},
   "source": [
    "Let's plot some interpolated data:"
   ]
  },
  {
   "cell_type": "code",
   "execution_count": null,
   "id": "7501a0a0-82c3-41fd-bd1a-96cb64b6cce2",
   "metadata": {},
   "outputs": [],
   "source": [
    "# interpolate over the full flight envelope, for full throttle\n",
    "# this cell takes some time to run...\n",
    "Machs = np.arange(0, 1.0, 0.1)\n",
    "altitudes = np.arange(0, 40000, 100)\n",
    "\n",
    "\n",
    "PC = 1.0\n",
    "idata = {}\n",
    "for Mach in Machs:\n",
    "    temp_pts = []\n",
    "    for alt in altitudes:\n",
    "        temp_point = interp_altMNPC(alt, Mach, PC, df_CF34)\n",
    "        temp_pts.append(temp_point)\n",
    "    idata[Mach] = temp_pts\n",
    "        "
   ]
  },
  {
   "cell_type": "code",
   "execution_count": null,
   "id": "00ea7aea-1563-452b-bd8d-76f559b467ca",
   "metadata": {},
   "outputs": [],
   "source": [
    "# quick plot\n",
    "plot_key = 'Fn' # this is the parameter to be ploted on the right-hand side plot\n",
    "for Mach in Machs:\n",
    "    temp = [i[plot_key] for i in idata[Mach]]\n",
    "    plt.plot(altitudes, temp)\n",
    "plt.show()\n"
   ]
  },
  {
   "cell_type": "markdown",
   "id": "98077aea-2f2c-4c51-93bd-6cf5ce9c8770",
   "metadata": {},
   "source": [
    "Now, we can clearly see the problem area so let's plot more data."
   ]
  },
  {
   "cell_type": "code",
   "execution_count": null,
   "id": "54b94cfe-1af4-4072-ba18-b1cbcf2d9f74",
   "metadata": {},
   "outputs": [],
   "source": [
    "def deckplot(altitudes, Machs, PC, p2_key, df):\n",
    "\n",
    "    fig, (ax1, ax2) = plt.subplots(1, 2)\n",
    "    fig.suptitle('CF34-10 Deck')\n",
    "\n",
    "    \n",
    "    idata = {}\n",
    "    for Mach in Machs:\n",
    "        temp = []\n",
    "        for alt in altitudes:\n",
    "            temp.append(interp_altMNPC(alt, Mach, PC, df))\n",
    "        idata[Mach] = temp\n",
    "    \n",
    "        # filter dataframe:\n",
    "\n",
    "    y1 = []\n",
    "    y2 = []\n",
    "    for Mach in Machs:\n",
    "        for i in idata[Mach]:\n",
    "            y1.append(i['Fn'])\n",
    "            y2.append(i[p2_key])\n",
    "        ax1.plot(altitudes, y1)\n",
    "        ax2.plot(altitudes, y2, label=f'M={Mach:0.1f}')\n",
    "        y1 = []\n",
    "        y2 = []  \n",
    "    \n",
    "    ax1.set_title('Thrust')\n",
    "    ax1.set(xlabel='Altitude', ylabel='T [lbf]')\n",
    "    ax1.grid(alpha=0.2)\n",
    "    \n",
    "    \n",
    "    ax2.set_title(p2_key)\n",
    "    ax2.set(xlabel='Altitude', ylabel=p2_key)\n",
    "    ax2.grid(alpha=0.2)\n",
    "    ax2.legend(title='Mach:', loc='lower right')\n",
    "    fig.show()\n",
    "    \n",
    "    return fig"
   ]
  },
  {
   "cell_type": "code",
   "execution_count": null,
   "id": "a4252847-4eca-4886-bfb6-6df2c5059114",
   "metadata": {},
   "outputs": [],
   "source": [
    "# quick test\n",
    "param_list = ['MN', 'Fg']\n",
    "figures = [deckplot(altitudes, Machs, 1.0, p, df_CF34) for p in param_list]"
   ]
  },
  {
   "cell_type": "code",
   "execution_count": null,
   "id": "ba7c29d6-4b95-47e5-80a4-6df3e3fb10e4",
   "metadata": {},
   "outputs": [],
   "source": [
    "# full set of plots\n",
    "# this cell tales a long time to run...\n",
    "param_list = df_CF34.columns.to_list() # select all parameters available in our deck\n",
    "figures = [deckplot(altitudes, Machs, 1.0, p, df_CF34) for p in param_list]"
   ]
  },
  {
   "cell_type": "markdown",
   "id": "5b0564a0-2601-4eba-8386-cb2e9ac4f165",
   "metadata": {},
   "source": [
    "\n",
    "Because we will have many figures, instead of showing in the notebook, let's save to disk\n",
    "\n"
   ]
  },
  {
   "cell_type": "code",
   "execution_count": null,
   "id": "9ac81f3f-e6d1-4e5b-b128-cdbdb4469e91",
   "metadata": {},
   "outputs": [],
   "source": [
    "for idx, f in enumerate(figures):\n",
    "    f.savefig(f'fig_{idx}_{param_list[idx]}.png', format='png')"
   ]
  },
  {
   "cell_type": "markdown",
   "id": "103757c8-ddf8-4239-97d4-7dc46df0e978",
   "metadata": {},
   "source": [
    "We can now scroll through the figures and do some thinking..."
   ]
  },
  {
   "cell_type": "markdown",
   "id": "996c0a09-b368-4a86-b017-6cf9010eff38",
   "metadata": {},
   "source": [
    "# the solution"
   ]
  },
  {
   "cell_type": "markdown",
   "id": "67006be9-ca13-40d9-bfac-ce151671bcc0",
   "metadata": {},
   "source": [
    "Let's filter out the 19000ft data"
   ]
  },
  {
   "cell_type": "code",
   "execution_count": null,
   "id": "b0859f70-9157-4369-9242-d46c02088581",
   "metadata": {},
   "outputs": [],
   "source": [
    "clean_df = df_CF34[(df_CF34.alt<18999) | (df_CF34.alt>20001)]"
   ]
  },
  {
   "cell_type": "code",
   "execution_count": null,
   "id": "3e97db6b-2439-4e4a-b501-8db19b93e13c",
   "metadata": {},
   "outputs": [],
   "source": [
    "# quick test\n",
    "param_list = ['MN', 'Fg']\n",
    "figures = [deckplot(altitudes, Machs, 1.0, p, clean_df) for p in param_list]"
   ]
  },
  {
   "cell_type": "code",
   "execution_count": null,
   "id": "a723ba81-c097-4ed1-b4e6-213669d398f6",
   "metadata": {},
   "outputs": [],
   "source": [
    "# quick check\n",
    "Machs2 = [0.6, 0.7]\n",
    "param_list2 = ['fc:stat:P']\n",
    "figures = [deckplot(altitudes, Machs2, 1.0, p, clean_df) for p in param_list2]"
   ]
  },
  {
   "cell_type": "markdown",
   "id": "e85ca32a-39c9-4f79-833c-09d3c5f040e8",
   "metadata": {
    "jupyter": {
     "source_hidden": true
    }
   },
   "source": [
    "Although far from ideal, this gives us an approxiamte solution to use the CF34-10 deck while further investigation is done."
   ]
  },
  {
   "cell_type": "markdown",
   "id": "f6ca3528-46bc-4363-bffc-d4f761957193",
   "metadata": {},
   "source": [
    "interpolation check:\n",
    "1. extremes\n",
    "2. out-of-extremes\n",
    "3. speed test"
   ]
  },
  {
   "cell_type": "code",
   "execution_count": null,
   "id": "50d1815a-83f2-4a18-ad0d-69aa7156ee5d",
   "metadata": {},
   "outputs": [],
   "source": [
    "# checking interpolation extremes\n",
    "print('Low speed, low altitude:')\n",
    "MN = 0.0\n",
    "alt = 0\n",
    "PC = 1.0\n",
    "res = interp_altMNPC(alt, MN, PC, clean_df)\n",
    "print(f'MN={MN}, alt={alt}, PC={PC}')\n",
    "print(f'interpolated thrust: {res['Fn']:.0f} lbf, closest thruth datapoint: {clean_df[(clean_df['alt']==alt) & \n",
    "                        (clean_df['MN']<=MN+0.03) & \n",
    "                        (clean_df['MN']>=MN-0.03) & \n",
    "                        (clean_df['PC']==PC)]['Fn'].to_numpy()} lbf')"
   ]
  },
  {
   "cell_type": "code",
   "execution_count": null,
   "id": "6dc1b7a7-bba4-491b-b79c-ef4d7725cbe7",
   "metadata": {},
   "outputs": [],
   "source": [
    "print('Low speed, invalid altitude:')\n",
    "MN = 0.0\n",
    "alt = -10\n",
    "PC = 1.0\n",
    "res = interp_altMNPC(alt, MN, PC, clean_df)\n",
    "print(f'MN={MN}, alt={alt}, PC={PC}')\n",
    "print(f'interpolated thrust: {res['Fn']:.0f} lbf, closest thruth datapoint: {clean_df[(clean_df['alt']==alt) & \n",
    "                        (clean_df['MN']<=MN+0.03) & \n",
    "                        (clean_df['MN']>=MN-0.03) & \n",
    "                        (clean_df['PC']==PC)]['Fn'].to_numpy()} lbf')"
   ]
  },
  {
   "cell_type": "code",
   "execution_count": null,
   "id": "f2b4e885-c521-4ed6-8904-7b425aeed1bd",
   "metadata": {},
   "outputs": [],
   "source": [
    "print('High speed, low altitude:')\n",
    "MN = 0.5\n",
    "alt = 0\n",
    "PC = 1.0\n",
    "res = interp_altMNPC(alt, MN, PC, clean_df)\n",
    "print(f'MN={MN}, alt={alt}, PC={PC}')\n",
    "print(f'interpolated thrust: {res['Fn']:.0f} lbf, closest thruth datapoint: {clean_df[(clean_df['alt']==alt) & \n",
    "                        (clean_df['MN']<=MN+0.03) & \n",
    "                        (clean_df['MN']>=MN-0.03) & \n",
    "                        (clean_df['PC']==PC)]['Fn'].to_numpy()} lbf')"
   ]
  },
  {
   "cell_type": "code",
   "execution_count": null,
   "id": "5dc4df1e-7c75-417e-a534-7b1f7133e900",
   "metadata": {},
   "outputs": [],
   "source": [
    "print('extrapolated speed, low altitude:')\n",
    "MN = 0.9\n",
    "alt = 0\n",
    "PC = 1.0\n",
    "res = interp_altMNPC(alt, MN, PC, clean_df)\n",
    "print(f'MN={MN}, alt={alt}, PC={PC}')\n",
    "print(f'interpolated thrust: {res['Fn']:.0f} lbf, closest thruth datapoint: {clean_df[(clean_df['alt']==alt) & \n",
    "                        (clean_df['MN']<=MN+0.03) & \n",
    "                        (clean_df['MN']>=MN-0.03) & \n",
    "                        (clean_df['PC']==PC)]['Fn'].to_numpy()} lbf')"
   ]
  },
  {
   "cell_type": "code",
   "execution_count": null,
   "id": "5e7523ab-1b35-4a93-acb6-f7f8db5382a1",
   "metadata": {},
   "outputs": [],
   "source": [
    "print('mid-envelope:')\n",
    "MN = 0.78\n",
    "alt = 35000\n",
    "PC = 1.0\n",
    "res = interp_altMNPC(alt, MN, PC, clean_df)\n",
    "print(f'MN={MN}, alt={alt}, PC={PC}')\n",
    "print(f'interpolated thrust: {res['Fn']:.0f} lbf, closest thruth datapoints: {clean_df[(clean_df['alt']==alt) & \n",
    "                        (clean_df['MN']<=MN+0.03) & \n",
    "                        (clean_df['MN']>=MN-0.03) & \n",
    "                        (clean_df['PC']==PC)]['Fn'].to_numpy()} lbf')"
   ]
  },
  {
   "cell_type": "code",
   "execution_count": null,
   "id": "42c755bf-261b-4e25-a75d-bab2fb1d5312",
   "metadata": {},
   "outputs": [],
   "source": [
    "print('High speed, high altitude:')\n",
    "MN = 0.82\n",
    "alt = 41000\n",
    "PC = 1.0\n",
    "res = interp_altMNPC(alt, MN, PC, clean_df)\n",
    "print(f'MN={MN}, alt={alt}, PC={PC}')\n",
    "print(f'interpolated thrust: {res['Fn']:.0f} lbf, closest thruth datapoints: {clean_df[(clean_df['alt']==alt) & \n",
    "                        (clean_df['MN']<=MN+0.03) & \n",
    "                        (clean_df['MN']>=MN-0.03) & \n",
    "                        (clean_df['PC']==PC)]['Fn'].to_numpy()} lbf')"
   ]
  },
  {
   "cell_type": "code",
   "execution_count": null,
   "id": "fb7ed4de-54bb-4d7c-b634-3fe7ec5e46eb",
   "metadata": {},
   "outputs": [],
   "source": [
    "print('High speed, invalid altitude:')\n",
    "MN = 0.82\n",
    "alt = 44000\n",
    "PC = 1.0\n",
    "res = interp_altMNPC(alt, MN, PC, clean_df)\n",
    "print(f'MN={MN}, alt={alt}, PC={PC}')\n",
    "print(f'interpolated thrust: {res['Fn']:.0f} lbf, closest thruth datapoints: {clean_df[(clean_df['alt']==alt) & \n",
    "                        (clean_df['MN']<=MN+0.03) & \n",
    "                        (clean_df['MN']>=MN-0.03) & \n",
    "                        (clean_df['PC']==PC)]['Fn'].to_numpy()} lbf')"
   ]
  },
  {
   "cell_type": "code",
   "execution_count": null,
   "id": "e6d0409e-75ad-4069-829a-e9344d77e63e",
   "metadata": {},
   "outputs": [],
   "source": [
    "print('invalid speed, high altitude:')\n",
    "MN = 0.93\n",
    "alt = 41000\n",
    "PC = 1.0\n",
    "res = interp_altMNPC(alt, MN, PC, clean_df)\n",
    "print(f'MN={MN}, alt={alt}, PC={PC}')\n",
    "print(f'interpolated thrust: {res['Fn']:.0f} lbf, closest thruth datapoints: {clean_df[(clean_df['alt']==alt) & \n",
    "                        (clean_df['MN']<=MN+0.03) & \n",
    "                        (clean_df['MN']>=MN-0.03) & \n",
    "                        (clean_df['PC']==PC)]['Fn'].to_numpy()} lbf')"
   ]
  },
  {
   "cell_type": "markdown",
   "id": "2aa8f707-9849-417f-ab67-69183c903b56",
   "metadata": {},
   "source": [
    "API speed test time!"
   ]
  },
  {
   "cell_type": "code",
   "execution_count": null,
   "id": "1acd268c-c03a-48db-a8fd-74abf07580dd",
   "metadata": {},
   "outputs": [],
   "source": [
    "import timeit"
   ]
  },
  {
   "cell_type": "code",
   "execution_count": null,
   "id": "1746b555-3a6e-4141-9095-8e32a2040902",
   "metadata": {},
   "outputs": [],
   "source": [
    "niter = 1000 # number of runs to average our timing\n",
    "MN = 0.82\n",
    "alt = 41000\n",
    "PC = 1.0\n",
    "res = interp_altMNPC(alt, MN, PC, clean_df)\n",
    "print(f'MN={MN}, alt={alt}, PC={PC}')\n",
    "print(f'interpolated thrust: {res['Fn']:.0f} lbf')\n",
    "API_total_time = timeit.timeit(lambda: interp_altMNPC(alt, MN, PC, clean_df)['Fn'], number=niter)\n",
    "print(f'{niter} calls: {API_total_time:.3f} seconds, equates to {1/(API_total_time/niter):.1f}Hz')"
   ]
  },
  {
   "cell_type": "code",
   "execution_count": null,
   "id": "9bc43138-fd46-4210-a584-bf3d6e9c7ca4",
   "metadata": {},
   "outputs": [],
   "source": []
  }
 ],
 "metadata": {
  "kernelspec": {
   "display_name": "Python 3 (ipykernel)",
   "language": "python",
   "name": "python3"
  },
  "language_info": {
   "codemirror_mode": {
    "name": "ipython",
    "version": 3
   },
   "file_extension": ".py",
   "mimetype": "text/x-python",
   "name": "python",
   "nbconvert_exporter": "python",
   "pygments_lexer": "ipython3",
   "version": "3.12.8"
  }
 },
 "nbformat": 4,
 "nbformat_minor": 5
}
